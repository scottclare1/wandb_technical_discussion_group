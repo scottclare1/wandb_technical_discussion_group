{
 "cells": [
  {
   "cell_type": "code",
   "execution_count": 1,
   "id": "5d89633d",
   "metadata": {},
   "outputs": [
    {
     "name": "stdout",
     "output_type": "stream",
     "text": [
      "Requirement already satisfied: wandb in /Users/scottclare/miniconda3/envs/tech_discussion_group/lib/python3.8/site-packages (0.14.0)\n",
      "Requirement already satisfied: protobuf!=4.21.0,<5,>=3.19.0 in /Users/scottclare/miniconda3/envs/tech_discussion_group/lib/python3.8/site-packages (from wandb) (3.20.3)\n",
      "Requirement already satisfied: requests<3,>=2.0.0 in /Users/scottclare/miniconda3/envs/tech_discussion_group/lib/python3.8/site-packages (from wandb) (2.28.2)\n",
      "Requirement already satisfied: setuptools in /Users/scottclare/miniconda3/envs/tech_discussion_group/lib/python3.8/site-packages (from wandb) (65.6.3)\n",
      "Requirement already satisfied: pathtools in /Users/scottclare/miniconda3/envs/tech_discussion_group/lib/python3.8/site-packages (from wandb) (0.1.2)\n",
      "Requirement already satisfied: setproctitle in /Users/scottclare/miniconda3/envs/tech_discussion_group/lib/python3.8/site-packages (from wandb) (1.3.2)\n",
      "Requirement already satisfied: PyYAML in /Users/scottclare/miniconda3/envs/tech_discussion_group/lib/python3.8/site-packages (from wandb) (6.0)\n",
      "Requirement already satisfied: appdirs>=1.4.3 in /Users/scottclare/miniconda3/envs/tech_discussion_group/lib/python3.8/site-packages (from wandb) (1.4.4)\n",
      "Requirement already satisfied: Click!=8.0.0,>=7.0 in /Users/scottclare/miniconda3/envs/tech_discussion_group/lib/python3.8/site-packages (from wandb) (8.1.3)\n",
      "Requirement already satisfied: docker-pycreds>=0.4.0 in /Users/scottclare/miniconda3/envs/tech_discussion_group/lib/python3.8/site-packages (from wandb) (0.4.0)\n",
      "Requirement already satisfied: GitPython!=3.1.29,>=1.0.0 in /Users/scottclare/miniconda3/envs/tech_discussion_group/lib/python3.8/site-packages (from wandb) (3.1.31)\n",
      "Requirement already satisfied: sentry-sdk>=1.0.0 in /Users/scottclare/miniconda3/envs/tech_discussion_group/lib/python3.8/site-packages (from wandb) (1.16.0)\n",
      "Requirement already satisfied: psutil>=5.0.0 in /Users/scottclare/miniconda3/envs/tech_discussion_group/lib/python3.8/site-packages (from wandb) (5.9.4)\n",
      "Requirement already satisfied: typing-extensions in /Users/scottclare/miniconda3/envs/tech_discussion_group/lib/python3.8/site-packages (from wandb) (4.5.0)\n",
      "Requirement already satisfied: six>=1.4.0 in /Users/scottclare/miniconda3/envs/tech_discussion_group/lib/python3.8/site-packages (from docker-pycreds>=0.4.0->wandb) (1.16.0)\n",
      "Requirement already satisfied: gitdb<5,>=4.0.1 in /Users/scottclare/miniconda3/envs/tech_discussion_group/lib/python3.8/site-packages (from GitPython!=3.1.29,>=1.0.0->wandb) (4.0.10)\n",
      "Requirement already satisfied: certifi>=2017.4.17 in /Users/scottclare/miniconda3/envs/tech_discussion_group/lib/python3.8/site-packages (from requests<3,>=2.0.0->wandb) (2022.12.7)\n",
      "Requirement already satisfied: charset-normalizer<4,>=2 in /Users/scottclare/miniconda3/envs/tech_discussion_group/lib/python3.8/site-packages (from requests<3,>=2.0.0->wandb) (3.1.0)\n",
      "Requirement already satisfied: urllib3<1.27,>=1.21.1 in /Users/scottclare/miniconda3/envs/tech_discussion_group/lib/python3.8/site-packages (from requests<3,>=2.0.0->wandb) (1.26.15)\n",
      "Requirement already satisfied: idna<4,>=2.5 in /Users/scottclare/miniconda3/envs/tech_discussion_group/lib/python3.8/site-packages (from requests<3,>=2.0.0->wandb) (3.4)\n",
      "Requirement already satisfied: smmap<6,>=3.0.1 in /Users/scottclare/miniconda3/envs/tech_discussion_group/lib/python3.8/site-packages (from gitdb<5,>=4.0.1->GitPython!=3.1.29,>=1.0.0->wandb) (5.0.0)\n",
      "Requirement already satisfied: scikit-learn in /Users/scottclare/miniconda3/envs/tech_discussion_group/lib/python3.8/site-packages (1.2.2)\n",
      "Requirement already satisfied: scipy>=1.3.2 in /Users/scottclare/miniconda3/envs/tech_discussion_group/lib/python3.8/site-packages (from scikit-learn) (1.10.1)\n",
      "Requirement already satisfied: joblib>=1.1.1 in /Users/scottclare/miniconda3/envs/tech_discussion_group/lib/python3.8/site-packages (from scikit-learn) (1.2.0)\n",
      "Requirement already satisfied: threadpoolctl>=2.0.0 in /Users/scottclare/miniconda3/envs/tech_discussion_group/lib/python3.8/site-packages (from scikit-learn) (3.1.0)\n",
      "Requirement already satisfied: numpy>=1.17.3 in /Users/scottclare/miniconda3/envs/tech_discussion_group/lib/python3.8/site-packages (from scikit-learn) (1.24.2)\n",
      "Requirement already satisfied: pandas in /Users/scottclare/miniconda3/envs/tech_discussion_group/lib/python3.8/site-packages (1.5.3)\n",
      "Requirement already satisfied: numpy>=1.20.3 in /Users/scottclare/miniconda3/envs/tech_discussion_group/lib/python3.8/site-packages (from pandas) (1.24.2)\n",
      "Requirement already satisfied: pytz>=2020.1 in /Users/scottclare/miniconda3/envs/tech_discussion_group/lib/python3.8/site-packages (from pandas) (2022.7.1)\n",
      "Requirement already satisfied: python-dateutil>=2.8.1 in /Users/scottclare/miniconda3/envs/tech_discussion_group/lib/python3.8/site-packages (from pandas) (2.8.2)\n",
      "Requirement already satisfied: six>=1.5 in /Users/scottclare/miniconda3/envs/tech_discussion_group/lib/python3.8/site-packages (from python-dateutil>=2.8.1->pandas) (1.16.0)\n",
      "Requirement already satisfied: numpy in /Users/scottclare/miniconda3/envs/tech_discussion_group/lib/python3.8/site-packages (1.24.2)\n",
      "Requirement already satisfied: simpletransformers in /Users/scottclare/miniconda3/envs/tech_discussion_group/lib/python3.8/site-packages (0.63.9)\n",
      "Requirement already satisfied: tensorboard in /Users/scottclare/miniconda3/envs/tech_discussion_group/lib/python3.8/site-packages (from simpletransformers) (2.12.0)\n",
      "Requirement already satisfied: wandb>=0.10.32 in /Users/scottclare/miniconda3/envs/tech_discussion_group/lib/python3.8/site-packages (from simpletransformers) (0.14.0)\n",
      "Requirement already satisfied: sentencepiece in /Users/scottclare/miniconda3/envs/tech_discussion_group/lib/python3.8/site-packages (from simpletransformers) (0.1.97)\n",
      "Requirement already satisfied: requests in /Users/scottclare/miniconda3/envs/tech_discussion_group/lib/python3.8/site-packages (from simpletransformers) (2.28.2)\n",
      "Requirement already satisfied: tqdm>=4.47.0 in /Users/scottclare/miniconda3/envs/tech_discussion_group/lib/python3.8/site-packages (from simpletransformers) (4.65.0)\n",
      "Requirement already satisfied: scikit-learn in /Users/scottclare/miniconda3/envs/tech_discussion_group/lib/python3.8/site-packages (from simpletransformers) (1.2.2)\n",
      "Requirement already satisfied: pandas in /Users/scottclare/miniconda3/envs/tech_discussion_group/lib/python3.8/site-packages (from simpletransformers) (1.5.3)\n",
      "Requirement already satisfied: tokenizers in /Users/scottclare/miniconda3/envs/tech_discussion_group/lib/python3.8/site-packages (from simpletransformers) (0.13.2)\n",
      "Requirement already satisfied: streamlit in /Users/scottclare/miniconda3/envs/tech_discussion_group/lib/python3.8/site-packages (from simpletransformers) (1.20.0)\n",
      "Requirement already satisfied: datasets in /Users/scottclare/miniconda3/envs/tech_discussion_group/lib/python3.8/site-packages (from simpletransformers) (2.10.1)\n",
      "Requirement already satisfied: numpy in /Users/scottclare/miniconda3/envs/tech_discussion_group/lib/python3.8/site-packages (from simpletransformers) (1.24.2)\n",
      "Requirement already satisfied: transformers>=4.6.0 in /Users/scottclare/miniconda3/envs/tech_discussion_group/lib/python3.8/site-packages (from simpletransformers) (4.27.2)\n",
      "Requirement already satisfied: scipy in /Users/scottclare/miniconda3/envs/tech_discussion_group/lib/python3.8/site-packages (from simpletransformers) (1.10.1)\n",
      "Requirement already satisfied: seqeval in /Users/scottclare/miniconda3/envs/tech_discussion_group/lib/python3.8/site-packages (from simpletransformers) (1.2.2)\n",
      "Requirement already satisfied: regex in /Users/scottclare/miniconda3/envs/tech_discussion_group/lib/python3.8/site-packages (from simpletransformers) (2022.10.31)\n",
      "Requirement already satisfied: huggingface-hub<1.0,>=0.11.0 in /Users/scottclare/miniconda3/envs/tech_discussion_group/lib/python3.8/site-packages (from transformers>=4.6.0->simpletransformers) (0.13.3)\n",
      "Requirement already satisfied: filelock in /Users/scottclare/miniconda3/envs/tech_discussion_group/lib/python3.8/site-packages (from transformers>=4.6.0->simpletransformers) (3.10.0)\n",
      "Requirement already satisfied: pyyaml>=5.1 in /Users/scottclare/miniconda3/envs/tech_discussion_group/lib/python3.8/site-packages (from transformers>=4.6.0->simpletransformers) (6.0)\n",
      "Requirement already satisfied: packaging>=20.0 in /Users/scottclare/miniconda3/envs/tech_discussion_group/lib/python3.8/site-packages (from transformers>=4.6.0->simpletransformers) (23.0)\n",
      "Requirement already satisfied: docker-pycreds>=0.4.0 in /Users/scottclare/miniconda3/envs/tech_discussion_group/lib/python3.8/site-packages (from wandb>=0.10.32->simpletransformers) (0.4.0)\n",
      "Requirement already satisfied: appdirs>=1.4.3 in /Users/scottclare/miniconda3/envs/tech_discussion_group/lib/python3.8/site-packages (from wandb>=0.10.32->simpletransformers) (1.4.4)\n",
      "Requirement already satisfied: typing-extensions in /Users/scottclare/miniconda3/envs/tech_discussion_group/lib/python3.8/site-packages (from wandb>=0.10.32->simpletransformers) (4.5.0)\n",
      "Requirement already satisfied: Click!=8.0.0,>=7.0 in /Users/scottclare/miniconda3/envs/tech_discussion_group/lib/python3.8/site-packages (from wandb>=0.10.32->simpletransformers) (8.1.3)\n",
      "Requirement already satisfied: pathtools in /Users/scottclare/miniconda3/envs/tech_discussion_group/lib/python3.8/site-packages (from wandb>=0.10.32->simpletransformers) (0.1.2)\n",
      "Requirement already satisfied: setuptools in /Users/scottclare/miniconda3/envs/tech_discussion_group/lib/python3.8/site-packages (from wandb>=0.10.32->simpletransformers) (65.6.3)\n",
      "Requirement already satisfied: protobuf!=4.21.0,<5,>=3.19.0 in /Users/scottclare/miniconda3/envs/tech_discussion_group/lib/python3.8/site-packages (from wandb>=0.10.32->simpletransformers) (3.20.3)\n",
      "Requirement already satisfied: GitPython!=3.1.29,>=1.0.0 in /Users/scottclare/miniconda3/envs/tech_discussion_group/lib/python3.8/site-packages (from wandb>=0.10.32->simpletransformers) (3.1.31)\n",
      "Requirement already satisfied: sentry-sdk>=1.0.0 in /Users/scottclare/miniconda3/envs/tech_discussion_group/lib/python3.8/site-packages (from wandb>=0.10.32->simpletransformers) (1.16.0)\n",
      "Requirement already satisfied: setproctitle in /Users/scottclare/miniconda3/envs/tech_discussion_group/lib/python3.8/site-packages (from wandb>=0.10.32->simpletransformers) (1.3.2)\n",
      "Requirement already satisfied: psutil>=5.0.0 in /Users/scottclare/miniconda3/envs/tech_discussion_group/lib/python3.8/site-packages (from wandb>=0.10.32->simpletransformers) (5.9.4)\n",
      "Requirement already satisfied: charset-normalizer<4,>=2 in /Users/scottclare/miniconda3/envs/tech_discussion_group/lib/python3.8/site-packages (from requests->simpletransformers) (3.1.0)\n",
      "Requirement already satisfied: certifi>=2017.4.17 in /Users/scottclare/miniconda3/envs/tech_discussion_group/lib/python3.8/site-packages (from requests->simpletransformers) (2022.12.7)\n",
      "Requirement already satisfied: urllib3<1.27,>=1.21.1 in /Users/scottclare/miniconda3/envs/tech_discussion_group/lib/python3.8/site-packages (from requests->simpletransformers) (1.26.15)\n",
      "Requirement already satisfied: idna<4,>=2.5 in /Users/scottclare/miniconda3/envs/tech_discussion_group/lib/python3.8/site-packages (from requests->simpletransformers) (3.4)\n"
     ]
    },
    {
     "name": "stdout",
     "output_type": "stream",
     "text": [
      "Requirement already satisfied: aiohttp in /Users/scottclare/miniconda3/envs/tech_discussion_group/lib/python3.8/site-packages (from datasets->simpletransformers) (3.8.4)\n",
      "Requirement already satisfied: dill<0.3.7,>=0.3.0 in /Users/scottclare/miniconda3/envs/tech_discussion_group/lib/python3.8/site-packages (from datasets->simpletransformers) (0.3.6)\n",
      "Requirement already satisfied: xxhash in /Users/scottclare/miniconda3/envs/tech_discussion_group/lib/python3.8/site-packages (from datasets->simpletransformers) (3.2.0)\n",
      "Requirement already satisfied: fsspec[http]>=2021.11.1 in /Users/scottclare/miniconda3/envs/tech_discussion_group/lib/python3.8/site-packages (from datasets->simpletransformers) (2023.3.0)\n",
      "Requirement already satisfied: responses<0.19 in /Users/scottclare/miniconda3/envs/tech_discussion_group/lib/python3.8/site-packages (from datasets->simpletransformers) (0.18.0)\n",
      "Requirement already satisfied: multiprocess in /Users/scottclare/miniconda3/envs/tech_discussion_group/lib/python3.8/site-packages (from datasets->simpletransformers) (0.70.14)\n",
      "Requirement already satisfied: pyarrow>=6.0.0 in /Users/scottclare/miniconda3/envs/tech_discussion_group/lib/python3.8/site-packages (from datasets->simpletransformers) (11.0.0)\n",
      "Requirement already satisfied: pytz>=2020.1 in /Users/scottclare/miniconda3/envs/tech_discussion_group/lib/python3.8/site-packages (from pandas->simpletransformers) (2022.7.1)\n",
      "Requirement already satisfied: python-dateutil>=2.8.1 in /Users/scottclare/miniconda3/envs/tech_discussion_group/lib/python3.8/site-packages (from pandas->simpletransformers) (2.8.2)\n",
      "Requirement already satisfied: threadpoolctl>=2.0.0 in /Users/scottclare/miniconda3/envs/tech_discussion_group/lib/python3.8/site-packages (from scikit-learn->simpletransformers) (3.1.0)\n",
      "Requirement already satisfied: joblib>=1.1.1 in /Users/scottclare/miniconda3/envs/tech_discussion_group/lib/python3.8/site-packages (from scikit-learn->simpletransformers) (1.2.0)\n",
      "Requirement already satisfied: semver in /Users/scottclare/miniconda3/envs/tech_discussion_group/lib/python3.8/site-packages (from streamlit->simpletransformers) (2.13.0)\n",
      "Requirement already satisfied: pympler>=0.9 in /Users/scottclare/miniconda3/envs/tech_discussion_group/lib/python3.8/site-packages (from streamlit->simpletransformers) (1.0.1)\n",
      "Requirement already satisfied: pydeck>=0.1.dev5 in /Users/scottclare/miniconda3/envs/tech_discussion_group/lib/python3.8/site-packages (from streamlit->simpletransformers) (0.8.0)\n",
      "Requirement already satisfied: importlib-metadata>=1.4 in /Users/scottclare/miniconda3/envs/tech_discussion_group/lib/python3.8/site-packages (from streamlit->simpletransformers) (6.0.0)\n",
      "Requirement already satisfied: altair<5,>=3.2.0 in /Users/scottclare/miniconda3/envs/tech_discussion_group/lib/python3.8/site-packages (from streamlit->simpletransformers) (4.2.2)\n",
      "Requirement already satisfied: pillow>=6.2.0 in /Users/scottclare/miniconda3/envs/tech_discussion_group/lib/python3.8/site-packages (from streamlit->simpletransformers) (9.4.0)\n",
      "Requirement already satisfied: cachetools>=4.0 in /Users/scottclare/miniconda3/envs/tech_discussion_group/lib/python3.8/site-packages (from streamlit->simpletransformers) (5.3.0)\n",
      "Requirement already satisfied: toml in /Users/scottclare/miniconda3/envs/tech_discussion_group/lib/python3.8/site-packages (from streamlit->simpletransformers) (0.10.2)\n",
      "Requirement already satisfied: tzlocal>=1.1 in /Users/scottclare/miniconda3/envs/tech_discussion_group/lib/python3.8/site-packages (from streamlit->simpletransformers) (4.3)\n",
      "Requirement already satisfied: validators>=0.2 in /Users/scottclare/miniconda3/envs/tech_discussion_group/lib/python3.8/site-packages (from streamlit->simpletransformers) (0.20.0)\n",
      "Requirement already satisfied: tornado>=6.0.3 in /Users/scottclare/miniconda3/envs/tech_discussion_group/lib/python3.8/site-packages (from streamlit->simpletransformers) (6.2)\n",
      "Requirement already satisfied: rich>=10.11.0 in /Users/scottclare/miniconda3/envs/tech_discussion_group/lib/python3.8/site-packages (from streamlit->simpletransformers) (13.3.2)\n",
      "Requirement already satisfied: blinker>=1.0.0 in /Users/scottclare/miniconda3/envs/tech_discussion_group/lib/python3.8/site-packages (from streamlit->simpletransformers) (1.5)\n",
      "Requirement already satisfied: werkzeug>=1.0.1 in /Users/scottclare/miniconda3/envs/tech_discussion_group/lib/python3.8/site-packages (from tensorboard->simpletransformers) (2.2.3)\n",
      "Requirement already satisfied: google-auth<3,>=1.6.3 in /Users/scottclare/miniconda3/envs/tech_discussion_group/lib/python3.8/site-packages (from tensorboard->simpletransformers) (2.16.2)\n",
      "Requirement already satisfied: markdown>=2.6.8 in /Users/scottclare/miniconda3/envs/tech_discussion_group/lib/python3.8/site-packages (from tensorboard->simpletransformers) (3.4.1)\n",
      "Requirement already satisfied: google-auth-oauthlib<0.5,>=0.4.1 in /Users/scottclare/miniconda3/envs/tech_discussion_group/lib/python3.8/site-packages (from tensorboard->simpletransformers) (0.4.6)\n",
      "Requirement already satisfied: grpcio>=1.48.2 in /Users/scottclare/miniconda3/envs/tech_discussion_group/lib/python3.8/site-packages (from tensorboard->simpletransformers) (1.51.3)\n",
      "Requirement already satisfied: tensorboard-plugin-wit>=1.6.0 in /Users/scottclare/miniconda3/envs/tech_discussion_group/lib/python3.8/site-packages (from tensorboard->simpletransformers) (1.8.1)\n",
      "Requirement already satisfied: absl-py>=0.4 in /Users/scottclare/miniconda3/envs/tech_discussion_group/lib/python3.8/site-packages (from tensorboard->simpletransformers) (1.4.0)\n",
      "Requirement already satisfied: wheel>=0.26 in /Users/scottclare/miniconda3/envs/tech_discussion_group/lib/python3.8/site-packages (from tensorboard->simpletransformers) (0.38.4)\n",
      "Requirement already satisfied: tensorboard-data-server<0.8.0,>=0.7.0 in /Users/scottclare/miniconda3/envs/tech_discussion_group/lib/python3.8/site-packages (from tensorboard->simpletransformers) (0.7.0)\n",
      "Requirement already satisfied: entrypoints in /Users/scottclare/miniconda3/envs/tech_discussion_group/lib/python3.8/site-packages (from altair<5,>=3.2.0->streamlit->simpletransformers) (0.4)\n",
      "Requirement already satisfied: toolz in /Users/scottclare/miniconda3/envs/tech_discussion_group/lib/python3.8/site-packages (from altair<5,>=3.2.0->streamlit->simpletransformers) (0.12.0)\n",
      "Requirement already satisfied: jinja2 in /Users/scottclare/miniconda3/envs/tech_discussion_group/lib/python3.8/site-packages (from altair<5,>=3.2.0->streamlit->simpletransformers) (3.1.2)\n",
      "Requirement already satisfied: jsonschema>=3.0 in /Users/scottclare/miniconda3/envs/tech_discussion_group/lib/python3.8/site-packages (from altair<5,>=3.2.0->streamlit->simpletransformers) (4.17.3)\n",
      "Requirement already satisfied: six>=1.4.0 in /Users/scottclare/miniconda3/envs/tech_discussion_group/lib/python3.8/site-packages (from docker-pycreds>=0.4.0->wandb>=0.10.32->simpletransformers) (1.16.0)\n",
      "Requirement already satisfied: frozenlist>=1.1.1 in /Users/scottclare/miniconda3/envs/tech_discussion_group/lib/python3.8/site-packages (from aiohttp->datasets->simpletransformers) (1.3.3)\n",
      "Requirement already satisfied: attrs>=17.3.0 in /Users/scottclare/miniconda3/envs/tech_discussion_group/lib/python3.8/site-packages (from aiohttp->datasets->simpletransformers) (22.2.0)\n",
      "Requirement already satisfied: yarl<2.0,>=1.0 in /Users/scottclare/miniconda3/envs/tech_discussion_group/lib/python3.8/site-packages (from aiohttp->datasets->simpletransformers) (1.8.2)\n",
      "Requirement already satisfied: aiosignal>=1.1.2 in /Users/scottclare/miniconda3/envs/tech_discussion_group/lib/python3.8/site-packages (from aiohttp->datasets->simpletransformers) (1.3.1)\n",
      "Requirement already satisfied: multidict<7.0,>=4.5 in /Users/scottclare/miniconda3/envs/tech_discussion_group/lib/python3.8/site-packages (from aiohttp->datasets->simpletransformers) (6.0.4)\n",
      "Requirement already satisfied: async-timeout<5.0,>=4.0.0a3 in /Users/scottclare/miniconda3/envs/tech_discussion_group/lib/python3.8/site-packages (from aiohttp->datasets->simpletransformers) (4.0.2)\n",
      "Requirement already satisfied: gitdb<5,>=4.0.1 in /Users/scottclare/miniconda3/envs/tech_discussion_group/lib/python3.8/site-packages (from GitPython!=3.1.29,>=1.0.0->wandb>=0.10.32->simpletransformers) (4.0.10)\n",
      "Requirement already satisfied: pyasn1-modules>=0.2.1 in /Users/scottclare/miniconda3/envs/tech_discussion_group/lib/python3.8/site-packages (from google-auth<3,>=1.6.3->tensorboard->simpletransformers) (0.2.8)\n",
      "Requirement already satisfied: rsa<5,>=3.1.4 in /Users/scottclare/miniconda3/envs/tech_discussion_group/lib/python3.8/site-packages (from google-auth<3,>=1.6.3->tensorboard->simpletransformers) (4.9)\n",
      "Requirement already satisfied: requests-oauthlib>=0.7.0 in /Users/scottclare/miniconda3/envs/tech_discussion_group/lib/python3.8/site-packages (from google-auth-oauthlib<0.5,>=0.4.1->tensorboard->simpletransformers) (1.3.1)\n",
      "Requirement already satisfied: zipp>=0.5 in /Users/scottclare/miniconda3/envs/tech_discussion_group/lib/python3.8/site-packages (from importlib-metadata>=1.4->streamlit->simpletransformers) (3.15.0)\n"
     ]
    },
    {
     "name": "stdout",
     "output_type": "stream",
     "text": [
      "Requirement already satisfied: markdown-it-py<3.0.0,>=2.2.0 in /Users/scottclare/miniconda3/envs/tech_discussion_group/lib/python3.8/site-packages (from rich>=10.11.0->streamlit->simpletransformers) (2.2.0)\n",
      "Requirement already satisfied: pygments<3.0.0,>=2.13.0 in /Users/scottclare/miniconda3/envs/tech_discussion_group/lib/python3.8/site-packages (from rich>=10.11.0->streamlit->simpletransformers) (2.14.0)\n",
      "Requirement already satisfied: pytz-deprecation-shim in /Users/scottclare/miniconda3/envs/tech_discussion_group/lib/python3.8/site-packages (from tzlocal>=1.1->streamlit->simpletransformers) (0.1.0.post0)\n",
      "Requirement already satisfied: backports.zoneinfo in /Users/scottclare/miniconda3/envs/tech_discussion_group/lib/python3.8/site-packages (from tzlocal>=1.1->streamlit->simpletransformers) (0.2.1)\n",
      "Requirement already satisfied: decorator>=3.4.0 in /Users/scottclare/miniconda3/envs/tech_discussion_group/lib/python3.8/site-packages (from validators>=0.2->streamlit->simpletransformers) (5.1.1)\n",
      "Requirement already satisfied: MarkupSafe>=2.1.1 in /Users/scottclare/miniconda3/envs/tech_discussion_group/lib/python3.8/site-packages (from werkzeug>=1.0.1->tensorboard->simpletransformers) (2.1.2)\n",
      "Requirement already satisfied: smmap<6,>=3.0.1 in /Users/scottclare/miniconda3/envs/tech_discussion_group/lib/python3.8/site-packages (from gitdb<5,>=4.0.1->GitPython!=3.1.29,>=1.0.0->wandb>=0.10.32->simpletransformers) (5.0.0)\n",
      "Requirement already satisfied: pkgutil-resolve-name>=1.3.10 in /Users/scottclare/miniconda3/envs/tech_discussion_group/lib/python3.8/site-packages (from jsonschema>=3.0->altair<5,>=3.2.0->streamlit->simpletransformers) (1.3.10)\n",
      "Requirement already satisfied: pyrsistent!=0.17.0,!=0.17.1,!=0.17.2,>=0.14.0 in /Users/scottclare/miniconda3/envs/tech_discussion_group/lib/python3.8/site-packages (from jsonschema>=3.0->altair<5,>=3.2.0->streamlit->simpletransformers) (0.19.3)\n",
      "Requirement already satisfied: importlib-resources>=1.4.0 in /Users/scottclare/miniconda3/envs/tech_discussion_group/lib/python3.8/site-packages (from jsonschema>=3.0->altair<5,>=3.2.0->streamlit->simpletransformers) (5.12.0)\n",
      "Requirement already satisfied: mdurl~=0.1 in /Users/scottclare/miniconda3/envs/tech_discussion_group/lib/python3.8/site-packages (from markdown-it-py<3.0.0,>=2.2.0->rich>=10.11.0->streamlit->simpletransformers) (0.1.2)\n",
      "Requirement already satisfied: pyasn1<0.5.0,>=0.4.6 in /Users/scottclare/miniconda3/envs/tech_discussion_group/lib/python3.8/site-packages (from pyasn1-modules>=0.2.1->google-auth<3,>=1.6.3->tensorboard->simpletransformers) (0.4.8)\n",
      "Requirement already satisfied: oauthlib>=3.0.0 in /Users/scottclare/miniconda3/envs/tech_discussion_group/lib/python3.8/site-packages (from requests-oauthlib>=0.7.0->google-auth-oauthlib<0.5,>=0.4.1->tensorboard->simpletransformers) (3.2.2)\n",
      "Requirement already satisfied: tzdata in /Users/scottclare/miniconda3/envs/tech_discussion_group/lib/python3.8/site-packages (from pytz-deprecation-shim->tzlocal>=1.1->streamlit->simpletransformers) (2022.7)\n",
      "Requirement already satisfied: torch in /Users/scottclare/miniconda3/envs/tech_discussion_group/lib/python3.8/site-packages (2.0.0)\n",
      "Requirement already satisfied: sympy in /Users/scottclare/miniconda3/envs/tech_discussion_group/lib/python3.8/site-packages (from torch) (1.11.1)\n",
      "Requirement already satisfied: jinja2 in /Users/scottclare/miniconda3/envs/tech_discussion_group/lib/python3.8/site-packages (from torch) (3.1.2)\n",
      "Requirement already satisfied: typing-extensions in /Users/scottclare/miniconda3/envs/tech_discussion_group/lib/python3.8/site-packages (from torch) (4.5.0)\n",
      "Requirement already satisfied: networkx in /Users/scottclare/miniconda3/envs/tech_discussion_group/lib/python3.8/site-packages (from torch) (3.0)\n",
      "Requirement already satisfied: filelock in /Users/scottclare/miniconda3/envs/tech_discussion_group/lib/python3.8/site-packages (from torch) (3.10.0)\n",
      "Requirement already satisfied: MarkupSafe>=2.0 in /Users/scottclare/miniconda3/envs/tech_discussion_group/lib/python3.8/site-packages (from jinja2->torch) (2.1.2)\n",
      "Requirement already satisfied: mpmath>=0.19 in /Users/scottclare/miniconda3/envs/tech_discussion_group/lib/python3.8/site-packages (from sympy->torch) (1.3.0)\n"
     ]
    }
   ],
   "source": [
    "!pip install wandb\n",
    "!pip install scikit-learn\n",
    "!pip install pandas\n",
    "!pip install numpy\n",
    "!pip install simpletransformers\n",
    "!pip install torch"
   ]
  },
  {
   "cell_type": "code",
   "execution_count": null,
   "id": "129e3863",
   "metadata": {},
   "outputs": [],
   "source": [
    "from sklearn.datasets import fetch_20newsgroups\n",
    "from sklearn.model_selection import train_test_split\n",
    "import wandb\n",
    "import pandas as pd\n",
    "from sklearn.metrics import f1_score, precision_score, recall_score\n",
    "import numpy as np\n",
    "from simpletransformers.classification import MultiLabelClassificationArgs, MultiLabelClassificationModel"
   ]
  },
  {
   "cell_type": "markdown",
   "id": "380c2210",
   "metadata": {},
   "source": [
    "# Loading in data"
   ]
  },
  {
   "cell_type": "code",
   "execution_count": null,
   "id": "9bb15223",
   "metadata": {},
   "outputs": [],
   "source": [
    "data = fetch_20newsgroups()"
   ]
  },
  {
   "cell_type": "code",
   "execution_count": null,
   "id": "9c6c0da8",
   "metadata": {},
   "outputs": [],
   "source": [
    "print(data.target_names)"
   ]
  },
  {
   "cell_type": "code",
   "execution_count": null,
   "id": "436946c7",
   "metadata": {},
   "outputs": [],
   "source": [
    "X = data.data\n",
    "y = data.target"
   ]
  },
  {
   "cell_type": "code",
   "execution_count": null,
   "id": "6ad63e00",
   "metadata": {},
   "outputs": [],
   "source": [
    "X_train, X_test, y_train, y_test = train_test_split(X, y, test_size=0.2, random_state=42)"
   ]
  },
  {
   "cell_type": "code",
   "execution_count": null,
   "id": "419617a6",
   "metadata": {},
   "outputs": [],
   "source": [
    "train_df = pd.DataFrame(\n",
    "    data={\n",
    "        \"X\": X_train,\n",
    "        \"y\": y_train\n",
    "    }\n",
    ")\n",
    "\n",
    "eval_df = pd.DataFrame(\n",
    "    data={\n",
    "        \"X\": X_test,\n",
    "        \"y\": y_test\n",
    "    }\n",
    ")"
   ]
  },
  {
   "cell_type": "markdown",
   "id": "c16b6e40",
   "metadata": {},
   "source": [
    "# Setup Code"
   ]
  },
  {
   "cell_type": "code",
   "execution_count": null,
   "id": "f8f735c7",
   "metadata": {},
   "outputs": [],
   "source": [
    "sweep_config = {\n",
    "    \"method\": \"bayes\",\n",
    "    \"metric\": {\"name\": \"train_loss\", \"goal\": \"minimize\"},\n",
    "    \"parameters\": {\n",
    "        \"num_train_epochs\": {\"values\": [2, 3, 5]},\n",
    "        \"learning_rate\": {\"min\": 5e-5, \"max\": 4e-4},\n",
    "    },\n",
    "}"
   ]
  },
  {
   "cell_type": "code",
   "execution_count": null,
   "id": "5011d785",
   "metadata": {},
   "outputs": [],
   "source": [
    "model_args = MultiLabelClassificationArgs()\n",
    "model_args.manual_seed = 4\n",
    "model_args.train_batch_size = 16\n",
    "model_args.eval_batch_size = 8\n",
    "model_args.labels_list = data.target_names\n",
    "model_args.overwrite_output_dir = True\n",
    "model_args.wandb_project = \"example_simple_transformers_sweep\""
   ]
  },
  {
   "cell_type": "code",
   "execution_count": null,
   "id": "26f95738",
   "metadata": {},
   "outputs": [],
   "source": [
    "def objective():\n",
    "    # Initialize a new wandb run\n",
    "    wandb.init()\n",
    "\n",
    "    # Create a TransformerModel\n",
    "    model = MultiLabelClassificationModel(\n",
    "        \"roberta\",\n",
    "        \"roberta-base\",\n",
    "        args=model_args,\n",
    "        sweep_config=wandb.config,\n",
    "    )\n",
    "\n",
    "    # Train the model\n",
    "    model.train_model(train_df, eval_df=eval_df)\n",
    "\n",
    "    # Evaluate the model\n",
    "    model.eval_model(eval_df)\n",
    "\n",
    "    # Sync wandb\n",
    "    wandb.join()"
   ]
  },
  {
   "cell_type": "markdown",
   "id": "12fae940",
   "metadata": {},
   "source": [
    "# Run Sweeps"
   ]
  },
  {
   "cell_type": "code",
   "execution_count": null,
   "id": "0b0cb2ec",
   "metadata": {},
   "outputs": [],
   "source": [
    "sweep_id = wandb.sweep(sweep_config, project=\"example_simple_transformers_sweep\")\n",
    "wandb.agent(sweep_id, objective)"
   ]
  }
 ],
 "metadata": {
  "kernelspec": {
   "display_name": "Python 3 (ipykernel)",
   "language": "python",
   "name": "python3"
  },
  "language_info": {
   "codemirror_mode": {
    "name": "ipython",
    "version": 3
   },
   "file_extension": ".py",
   "mimetype": "text/x-python",
   "name": "python",
   "nbconvert_exporter": "python",
   "pygments_lexer": "ipython3",
   "version": "3.8.16"
  }
 },
 "nbformat": 4,
 "nbformat_minor": 5
}
