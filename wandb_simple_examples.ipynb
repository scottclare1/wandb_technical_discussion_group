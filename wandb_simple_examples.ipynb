{
 "cells": [
  {
   "cell_type": "code",
   "execution_count": 36,
   "id": "56f77c60",
   "metadata": {},
   "outputs": [
    {
     "name": "stdout",
     "output_type": "stream",
     "text": [
      "Requirement already satisfied: wandb in /Users/scottclare/miniconda3/envs/tech_discussion_group/lib/python3.8/site-packages (0.14.0)\n",
      "Requirement already satisfied: typing-extensions in /Users/scottclare/miniconda3/envs/tech_discussion_group/lib/python3.8/site-packages (from wandb) (4.5.0)\n",
      "Requirement already satisfied: sentry-sdk>=1.0.0 in /Users/scottclare/miniconda3/envs/tech_discussion_group/lib/python3.8/site-packages (from wandb) (1.16.0)\n",
      "Requirement already satisfied: appdirs>=1.4.3 in /Users/scottclare/miniconda3/envs/tech_discussion_group/lib/python3.8/site-packages (from wandb) (1.4.4)\n",
      "Requirement already satisfied: docker-pycreds>=0.4.0 in /Users/scottclare/miniconda3/envs/tech_discussion_group/lib/python3.8/site-packages (from wandb) (0.4.0)\n",
      "Requirement already satisfied: setuptools in /Users/scottclare/miniconda3/envs/tech_discussion_group/lib/python3.8/site-packages (from wandb) (65.6.3)\n",
      "Requirement already satisfied: requests<3,>=2.0.0 in /Users/scottclare/miniconda3/envs/tech_discussion_group/lib/python3.8/site-packages (from wandb) (2.28.2)\n",
      "Requirement already satisfied: pathtools in /Users/scottclare/miniconda3/envs/tech_discussion_group/lib/python3.8/site-packages (from wandb) (0.1.2)\n",
      "Requirement already satisfied: protobuf!=4.21.0,<5,>=3.19.0 in /Users/scottclare/miniconda3/envs/tech_discussion_group/lib/python3.8/site-packages (from wandb) (3.20.3)\n",
      "Requirement already satisfied: Click!=8.0.0,>=7.0 in /Users/scottclare/miniconda3/envs/tech_discussion_group/lib/python3.8/site-packages (from wandb) (8.1.3)\n",
      "Requirement already satisfied: setproctitle in /Users/scottclare/miniconda3/envs/tech_discussion_group/lib/python3.8/site-packages (from wandb) (1.3.2)\n",
      "Requirement already satisfied: psutil>=5.0.0 in /Users/scottclare/miniconda3/envs/tech_discussion_group/lib/python3.8/site-packages (from wandb) (5.9.4)\n",
      "Requirement already satisfied: PyYAML in /Users/scottclare/miniconda3/envs/tech_discussion_group/lib/python3.8/site-packages (from wandb) (6.0)\n",
      "Requirement already satisfied: GitPython!=3.1.29,>=1.0.0 in /Users/scottclare/miniconda3/envs/tech_discussion_group/lib/python3.8/site-packages (from wandb) (3.1.31)\n",
      "Requirement already satisfied: six>=1.4.0 in /Users/scottclare/miniconda3/envs/tech_discussion_group/lib/python3.8/site-packages (from docker-pycreds>=0.4.0->wandb) (1.16.0)\n",
      "Requirement already satisfied: gitdb<5,>=4.0.1 in /Users/scottclare/miniconda3/envs/tech_discussion_group/lib/python3.8/site-packages (from GitPython!=3.1.29,>=1.0.0->wandb) (4.0.10)\n",
      "Requirement already satisfied: certifi>=2017.4.17 in /Users/scottclare/miniconda3/envs/tech_discussion_group/lib/python3.8/site-packages (from requests<3,>=2.0.0->wandb) (2022.12.7)\n",
      "Requirement already satisfied: charset-normalizer<4,>=2 in /Users/scottclare/miniconda3/envs/tech_discussion_group/lib/python3.8/site-packages (from requests<3,>=2.0.0->wandb) (3.1.0)\n",
      "Requirement already satisfied: urllib3<1.27,>=1.21.1 in /Users/scottclare/miniconda3/envs/tech_discussion_group/lib/python3.8/site-packages (from requests<3,>=2.0.0->wandb) (1.26.15)\n",
      "Requirement already satisfied: idna<4,>=2.5 in /Users/scottclare/miniconda3/envs/tech_discussion_group/lib/python3.8/site-packages (from requests<3,>=2.0.0->wandb) (3.4)\n",
      "Requirement already satisfied: smmap<6,>=3.0.1 in /Users/scottclare/miniconda3/envs/tech_discussion_group/lib/python3.8/site-packages (from gitdb<5,>=4.0.1->GitPython!=3.1.29,>=1.0.0->wandb) (5.0.0)\n",
      "Requirement already satisfied: scikit-learn in /Users/scottclare/miniconda3/envs/tech_discussion_group/lib/python3.8/site-packages (1.2.2)\n",
      "Requirement already satisfied: threadpoolctl>=2.0.0 in /Users/scottclare/miniconda3/envs/tech_discussion_group/lib/python3.8/site-packages (from scikit-learn) (3.1.0)\n",
      "Requirement already satisfied: numpy>=1.17.3 in /Users/scottclare/miniconda3/envs/tech_discussion_group/lib/python3.8/site-packages (from scikit-learn) (1.24.2)\n",
      "Requirement already satisfied: joblib>=1.1.1 in /Users/scottclare/miniconda3/envs/tech_discussion_group/lib/python3.8/site-packages (from scikit-learn) (1.2.0)\n",
      "Requirement already satisfied: scipy>=1.3.2 in /Users/scottclare/miniconda3/envs/tech_discussion_group/lib/python3.8/site-packages (from scikit-learn) (1.10.1)\n",
      "Requirement already satisfied: pandas in /Users/scottclare/miniconda3/envs/tech_discussion_group/lib/python3.8/site-packages (1.5.3)\n",
      "Requirement already satisfied: pytz>=2020.1 in /Users/scottclare/miniconda3/envs/tech_discussion_group/lib/python3.8/site-packages (from pandas) (2022.7.1)\n",
      "Requirement already satisfied: numpy>=1.20.3 in /Users/scottclare/miniconda3/envs/tech_discussion_group/lib/python3.8/site-packages (from pandas) (1.24.2)\n",
      "Requirement already satisfied: python-dateutil>=2.8.1 in /Users/scottclare/miniconda3/envs/tech_discussion_group/lib/python3.8/site-packages (from pandas) (2.8.2)\n",
      "Requirement already satisfied: six>=1.5 in /Users/scottclare/miniconda3/envs/tech_discussion_group/lib/python3.8/site-packages (from python-dateutil>=2.8.1->pandas) (1.16.0)\n",
      "Requirement already satisfied: numpy in /Users/scottclare/miniconda3/envs/tech_discussion_group/lib/python3.8/site-packages (1.24.2)\n",
      "Requirement already satisfied: simpletransformers in /Users/scottclare/miniconda3/envs/tech_discussion_group/lib/python3.8/site-packages (0.63.9)\n",
      "Requirement already satisfied: scikit-learn in /Users/scottclare/miniconda3/envs/tech_discussion_group/lib/python3.8/site-packages (from simpletransformers) (1.2.2)\n",
      "Requirement already satisfied: regex in /Users/scottclare/miniconda3/envs/tech_discussion_group/lib/python3.8/site-packages (from simpletransformers) (2022.10.31)\n",
      "Requirement already satisfied: scipy in /Users/scottclare/miniconda3/envs/tech_discussion_group/lib/python3.8/site-packages (from simpletransformers) (1.10.1)\n",
      "Requirement already satisfied: wandb>=0.10.32 in /Users/scottclare/miniconda3/envs/tech_discussion_group/lib/python3.8/site-packages (from simpletransformers) (0.14.0)\n",
      "Requirement already satisfied: datasets in /Users/scottclare/miniconda3/envs/tech_discussion_group/lib/python3.8/site-packages (from simpletransformers) (2.10.1)\n",
      "Requirement already satisfied: tokenizers in /Users/scottclare/miniconda3/envs/tech_discussion_group/lib/python3.8/site-packages (from simpletransformers) (0.13.2)\n",
      "Requirement already satisfied: numpy in /Users/scottclare/miniconda3/envs/tech_discussion_group/lib/python3.8/site-packages (from simpletransformers) (1.24.2)\n",
      "Requirement already satisfied: requests in /Users/scottclare/miniconda3/envs/tech_discussion_group/lib/python3.8/site-packages (from simpletransformers) (2.28.2)\n",
      "Requirement already satisfied: tensorboard in /Users/scottclare/miniconda3/envs/tech_discussion_group/lib/python3.8/site-packages (from simpletransformers) (2.12.0)\n",
      "Requirement already satisfied: transformers>=4.6.0 in /Users/scottclare/miniconda3/envs/tech_discussion_group/lib/python3.8/site-packages (from simpletransformers) (4.27.2)\n",
      "Requirement already satisfied: sentencepiece in /Users/scottclare/miniconda3/envs/tech_discussion_group/lib/python3.8/site-packages (from simpletransformers) (0.1.97)\n",
      "Requirement already satisfied: pandas in /Users/scottclare/miniconda3/envs/tech_discussion_group/lib/python3.8/site-packages (from simpletransformers) (1.5.3)\n",
      "Requirement already satisfied: seqeval in /Users/scottclare/miniconda3/envs/tech_discussion_group/lib/python3.8/site-packages (from simpletransformers) (1.2.2)\n",
      "Requirement already satisfied: streamlit in /Users/scottclare/miniconda3/envs/tech_discussion_group/lib/python3.8/site-packages (from simpletransformers) (1.20.0)\n",
      "Requirement already satisfied: tqdm>=4.47.0 in /Users/scottclare/miniconda3/envs/tech_discussion_group/lib/python3.8/site-packages (from simpletransformers) (4.65.0)\n",
      "Requirement already satisfied: huggingface-hub<1.0,>=0.11.0 in /Users/scottclare/miniconda3/envs/tech_discussion_group/lib/python3.8/site-packages (from transformers>=4.6.0->simpletransformers) (0.13.3)\n",
      "Requirement already satisfied: packaging>=20.0 in /Users/scottclare/miniconda3/envs/tech_discussion_group/lib/python3.8/site-packages (from transformers>=4.6.0->simpletransformers) (23.0)\n",
      "Requirement already satisfied: filelock in /Users/scottclare/miniconda3/envs/tech_discussion_group/lib/python3.8/site-packages (from transformers>=4.6.0->simpletransformers) (3.10.0)\n"
     ]
    },
    {
     "name": "stdout",
     "output_type": "stream",
     "text": [
      "Requirement already satisfied: pyyaml>=5.1 in /Users/scottclare/miniconda3/envs/tech_discussion_group/lib/python3.8/site-packages (from transformers>=4.6.0->simpletransformers) (6.0)\n",
      "Requirement already satisfied: setproctitle in /Users/scottclare/miniconda3/envs/tech_discussion_group/lib/python3.8/site-packages (from wandb>=0.10.32->simpletransformers) (1.3.2)\n",
      "Requirement already satisfied: setuptools in /Users/scottclare/miniconda3/envs/tech_discussion_group/lib/python3.8/site-packages (from wandb>=0.10.32->simpletransformers) (65.6.3)\n",
      "Requirement already satisfied: typing-extensions in /Users/scottclare/miniconda3/envs/tech_discussion_group/lib/python3.8/site-packages (from wandb>=0.10.32->simpletransformers) (4.5.0)\n",
      "Requirement already satisfied: psutil>=5.0.0 in /Users/scottclare/miniconda3/envs/tech_discussion_group/lib/python3.8/site-packages (from wandb>=0.10.32->simpletransformers) (5.9.4)\n",
      "Requirement already satisfied: sentry-sdk>=1.0.0 in /Users/scottclare/miniconda3/envs/tech_discussion_group/lib/python3.8/site-packages (from wandb>=0.10.32->simpletransformers) (1.16.0)\n",
      "Requirement already satisfied: protobuf!=4.21.0,<5,>=3.19.0 in /Users/scottclare/miniconda3/envs/tech_discussion_group/lib/python3.8/site-packages (from wandb>=0.10.32->simpletransformers) (3.20.3)\n",
      "Requirement already satisfied: GitPython!=3.1.29,>=1.0.0 in /Users/scottclare/miniconda3/envs/tech_discussion_group/lib/python3.8/site-packages (from wandb>=0.10.32->simpletransformers) (3.1.31)\n",
      "Requirement already satisfied: Click!=8.0.0,>=7.0 in /Users/scottclare/miniconda3/envs/tech_discussion_group/lib/python3.8/site-packages (from wandb>=0.10.32->simpletransformers) (8.1.3)\n",
      "Requirement already satisfied: appdirs>=1.4.3 in /Users/scottclare/miniconda3/envs/tech_discussion_group/lib/python3.8/site-packages (from wandb>=0.10.32->simpletransformers) (1.4.4)\n",
      "Requirement already satisfied: docker-pycreds>=0.4.0 in /Users/scottclare/miniconda3/envs/tech_discussion_group/lib/python3.8/site-packages (from wandb>=0.10.32->simpletransformers) (0.4.0)\n",
      "Requirement already satisfied: pathtools in /Users/scottclare/miniconda3/envs/tech_discussion_group/lib/python3.8/site-packages (from wandb>=0.10.32->simpletransformers) (0.1.2)\n",
      "Requirement already satisfied: idna<4,>=2.5 in /Users/scottclare/miniconda3/envs/tech_discussion_group/lib/python3.8/site-packages (from requests->simpletransformers) (3.4)\n",
      "Requirement already satisfied: charset-normalizer<4,>=2 in /Users/scottclare/miniconda3/envs/tech_discussion_group/lib/python3.8/site-packages (from requests->simpletransformers) (3.1.0)\n",
      "Requirement already satisfied: certifi>=2017.4.17 in /Users/scottclare/miniconda3/envs/tech_discussion_group/lib/python3.8/site-packages (from requests->simpletransformers) (2022.12.7)\n",
      "Requirement already satisfied: urllib3<1.27,>=1.21.1 in /Users/scottclare/miniconda3/envs/tech_discussion_group/lib/python3.8/site-packages (from requests->simpletransformers) (1.26.15)\n",
      "Requirement already satisfied: multiprocess in /Users/scottclare/miniconda3/envs/tech_discussion_group/lib/python3.8/site-packages (from datasets->simpletransformers) (0.70.14)\n",
      "Requirement already satisfied: pyarrow>=6.0.0 in /Users/scottclare/miniconda3/envs/tech_discussion_group/lib/python3.8/site-packages (from datasets->simpletransformers) (11.0.0)\n",
      "Requirement already satisfied: fsspec[http]>=2021.11.1 in /Users/scottclare/miniconda3/envs/tech_discussion_group/lib/python3.8/site-packages (from datasets->simpletransformers) (2023.3.0)\n",
      "Requirement already satisfied: responses<0.19 in /Users/scottclare/miniconda3/envs/tech_discussion_group/lib/python3.8/site-packages (from datasets->simpletransformers) (0.18.0)\n",
      "Requirement already satisfied: dill<0.3.7,>=0.3.0 in /Users/scottclare/miniconda3/envs/tech_discussion_group/lib/python3.8/site-packages (from datasets->simpletransformers) (0.3.6)\n",
      "Requirement already satisfied: aiohttp in /Users/scottclare/miniconda3/envs/tech_discussion_group/lib/python3.8/site-packages (from datasets->simpletransformers) (3.8.4)\n",
      "Requirement already satisfied: xxhash in /Users/scottclare/miniconda3/envs/tech_discussion_group/lib/python3.8/site-packages (from datasets->simpletransformers) (3.2.0)\n",
      "Requirement already satisfied: pytz>=2020.1 in /Users/scottclare/miniconda3/envs/tech_discussion_group/lib/python3.8/site-packages (from pandas->simpletransformers) (2022.7.1)\n",
      "Requirement already satisfied: python-dateutil>=2.8.1 in /Users/scottclare/miniconda3/envs/tech_discussion_group/lib/python3.8/site-packages (from pandas->simpletransformers) (2.8.2)\n",
      "Requirement already satisfied: joblib>=1.1.1 in /Users/scottclare/miniconda3/envs/tech_discussion_group/lib/python3.8/site-packages (from scikit-learn->simpletransformers) (1.2.0)\n",
      "Requirement already satisfied: threadpoolctl>=2.0.0 in /Users/scottclare/miniconda3/envs/tech_discussion_group/lib/python3.8/site-packages (from scikit-learn->simpletransformers) (3.1.0)\n",
      "Requirement already satisfied: tornado>=6.0.3 in /Users/scottclare/miniconda3/envs/tech_discussion_group/lib/python3.8/site-packages (from streamlit->simpletransformers) (6.2)\n",
      "Requirement already satisfied: semver in /Users/scottclare/miniconda3/envs/tech_discussion_group/lib/python3.8/site-packages (from streamlit->simpletransformers) (2.13.0)\n",
      "Requirement already satisfied: validators>=0.2 in /Users/scottclare/miniconda3/envs/tech_discussion_group/lib/python3.8/site-packages (from streamlit->simpletransformers) (0.20.0)\n",
      "Requirement already satisfied: altair<5,>=3.2.0 in /Users/scottclare/miniconda3/envs/tech_discussion_group/lib/python3.8/site-packages (from streamlit->simpletransformers) (4.2.2)\n",
      "Requirement already satisfied: rich>=10.11.0 in /Users/scottclare/miniconda3/envs/tech_discussion_group/lib/python3.8/site-packages (from streamlit->simpletransformers) (13.3.2)\n",
      "Requirement already satisfied: pydeck>=0.1.dev5 in /Users/scottclare/miniconda3/envs/tech_discussion_group/lib/python3.8/site-packages (from streamlit->simpletransformers) (0.8.0)\n",
      "Requirement already satisfied: cachetools>=4.0 in /Users/scottclare/miniconda3/envs/tech_discussion_group/lib/python3.8/site-packages (from streamlit->simpletransformers) (5.3.0)\n",
      "Requirement already satisfied: pympler>=0.9 in /Users/scottclare/miniconda3/envs/tech_discussion_group/lib/python3.8/site-packages (from streamlit->simpletransformers) (1.0.1)\n",
      "Requirement already satisfied: blinker>=1.0.0 in /Users/scottclare/miniconda3/envs/tech_discussion_group/lib/python3.8/site-packages (from streamlit->simpletransformers) (1.5)\n",
      "Requirement already satisfied: importlib-metadata>=1.4 in /Users/scottclare/miniconda3/envs/tech_discussion_group/lib/python3.8/site-packages (from streamlit->simpletransformers) (6.0.0)\n",
      "Requirement already satisfied: toml in /Users/scottclare/miniconda3/envs/tech_discussion_group/lib/python3.8/site-packages (from streamlit->simpletransformers) (0.10.2)\n",
      "Requirement already satisfied: pillow>=6.2.0 in /Users/scottclare/miniconda3/envs/tech_discussion_group/lib/python3.8/site-packages (from streamlit->simpletransformers) (9.4.0)\n",
      "Requirement already satisfied: tzlocal>=1.1 in /Users/scottclare/miniconda3/envs/tech_discussion_group/lib/python3.8/site-packages (from streamlit->simpletransformers) (4.3)\n",
      "Requirement already satisfied: absl-py>=0.4 in /Users/scottclare/miniconda3/envs/tech_discussion_group/lib/python3.8/site-packages (from tensorboard->simpletransformers) (1.4.0)\n",
      "Requirement already satisfied: tensorboard-plugin-wit>=1.6.0 in /Users/scottclare/miniconda3/envs/tech_discussion_group/lib/python3.8/site-packages (from tensorboard->simpletransformers) (1.8.1)\n",
      "Requirement already satisfied: werkzeug>=1.0.1 in /Users/scottclare/miniconda3/envs/tech_discussion_group/lib/python3.8/site-packages (from tensorboard->simpletransformers) (2.2.3)\n",
      "Requirement already satisfied: grpcio>=1.48.2 in /Users/scottclare/miniconda3/envs/tech_discussion_group/lib/python3.8/site-packages (from tensorboard->simpletransformers) (1.51.3)\n",
      "Requirement already satisfied: google-auth<3,>=1.6.3 in /Users/scottclare/miniconda3/envs/tech_discussion_group/lib/python3.8/site-packages (from tensorboard->simpletransformers) (2.16.2)\n",
      "Requirement already satisfied: markdown>=2.6.8 in /Users/scottclare/miniconda3/envs/tech_discussion_group/lib/python3.8/site-packages (from tensorboard->simpletransformers) (3.4.1)\n",
      "Requirement already satisfied: wheel>=0.26 in /Users/scottclare/miniconda3/envs/tech_discussion_group/lib/python3.8/site-packages (from tensorboard->simpletransformers) (0.38.4)\n",
      "Requirement already satisfied: google-auth-oauthlib<0.5,>=0.4.1 in /Users/scottclare/miniconda3/envs/tech_discussion_group/lib/python3.8/site-packages (from tensorboard->simpletransformers) (0.4.6)\n",
      "Requirement already satisfied: tensorboard-data-server<0.8.0,>=0.7.0 in /Users/scottclare/miniconda3/envs/tech_discussion_group/lib/python3.8/site-packages (from tensorboard->simpletransformers) (0.7.0)\n",
      "Requirement already satisfied: jinja2 in /Users/scottclare/miniconda3/envs/tech_discussion_group/lib/python3.8/site-packages (from altair<5,>=3.2.0->streamlit->simpletransformers) (3.1.2)\n",
      "Requirement already satisfied: jsonschema>=3.0 in /Users/scottclare/miniconda3/envs/tech_discussion_group/lib/python3.8/site-packages (from altair<5,>=3.2.0->streamlit->simpletransformers) (4.17.3)\n",
      "Requirement already satisfied: toolz in /Users/scottclare/miniconda3/envs/tech_discussion_group/lib/python3.8/site-packages (from altair<5,>=3.2.0->streamlit->simpletransformers) (0.12.0)\n",
      "Requirement already satisfied: entrypoints in /Users/scottclare/miniconda3/envs/tech_discussion_group/lib/python3.8/site-packages (from altair<5,>=3.2.0->streamlit->simpletransformers) (0.4)\n",
      "Requirement already satisfied: six>=1.4.0 in /Users/scottclare/miniconda3/envs/tech_discussion_group/lib/python3.8/site-packages (from docker-pycreds>=0.4.0->wandb>=0.10.32->simpletransformers) (1.16.0)\n",
      "Requirement already satisfied: yarl<2.0,>=1.0 in /Users/scottclare/miniconda3/envs/tech_discussion_group/lib/python3.8/site-packages (from aiohttp->datasets->simpletransformers) (1.8.2)\n"
     ]
    },
    {
     "name": "stdout",
     "output_type": "stream",
     "text": [
      "Requirement already satisfied: aiosignal>=1.1.2 in /Users/scottclare/miniconda3/envs/tech_discussion_group/lib/python3.8/site-packages (from aiohttp->datasets->simpletransformers) (1.3.1)\n",
      "Requirement already satisfied: frozenlist>=1.1.1 in /Users/scottclare/miniconda3/envs/tech_discussion_group/lib/python3.8/site-packages (from aiohttp->datasets->simpletransformers) (1.3.3)\n",
      "Requirement already satisfied: attrs>=17.3.0 in /Users/scottclare/miniconda3/envs/tech_discussion_group/lib/python3.8/site-packages (from aiohttp->datasets->simpletransformers) (22.2.0)\n",
      "Requirement already satisfied: async-timeout<5.0,>=4.0.0a3 in /Users/scottclare/miniconda3/envs/tech_discussion_group/lib/python3.8/site-packages (from aiohttp->datasets->simpletransformers) (4.0.2)\n",
      "Requirement already satisfied: multidict<7.0,>=4.5 in /Users/scottclare/miniconda3/envs/tech_discussion_group/lib/python3.8/site-packages (from aiohttp->datasets->simpletransformers) (6.0.4)\n",
      "Requirement already satisfied: gitdb<5,>=4.0.1 in /Users/scottclare/miniconda3/envs/tech_discussion_group/lib/python3.8/site-packages (from GitPython!=3.1.29,>=1.0.0->wandb>=0.10.32->simpletransformers) (4.0.10)\n",
      "Requirement already satisfied: rsa<5,>=3.1.4 in /Users/scottclare/miniconda3/envs/tech_discussion_group/lib/python3.8/site-packages (from google-auth<3,>=1.6.3->tensorboard->simpletransformers) (4.9)\n",
      "Requirement already satisfied: pyasn1-modules>=0.2.1 in /Users/scottclare/miniconda3/envs/tech_discussion_group/lib/python3.8/site-packages (from google-auth<3,>=1.6.3->tensorboard->simpletransformers) (0.2.8)\n",
      "Requirement already satisfied: requests-oauthlib>=0.7.0 in /Users/scottclare/miniconda3/envs/tech_discussion_group/lib/python3.8/site-packages (from google-auth-oauthlib<0.5,>=0.4.1->tensorboard->simpletransformers) (1.3.1)\n",
      "Requirement already satisfied: zipp>=0.5 in /Users/scottclare/miniconda3/envs/tech_discussion_group/lib/python3.8/site-packages (from importlib-metadata>=1.4->streamlit->simpletransformers) (3.15.0)\n",
      "Requirement already satisfied: pygments<3.0.0,>=2.13.0 in /Users/scottclare/miniconda3/envs/tech_discussion_group/lib/python3.8/site-packages (from rich>=10.11.0->streamlit->simpletransformers) (2.14.0)\n",
      "Requirement already satisfied: markdown-it-py<3.0.0,>=2.2.0 in /Users/scottclare/miniconda3/envs/tech_discussion_group/lib/python3.8/site-packages (from rich>=10.11.0->streamlit->simpletransformers) (2.2.0)\n",
      "Requirement already satisfied: pytz-deprecation-shim in /Users/scottclare/miniconda3/envs/tech_discussion_group/lib/python3.8/site-packages (from tzlocal>=1.1->streamlit->simpletransformers) (0.1.0.post0)\n",
      "Requirement already satisfied: backports.zoneinfo in /Users/scottclare/miniconda3/envs/tech_discussion_group/lib/python3.8/site-packages (from tzlocal>=1.1->streamlit->simpletransformers) (0.2.1)\n",
      "Requirement already satisfied: decorator>=3.4.0 in /Users/scottclare/miniconda3/envs/tech_discussion_group/lib/python3.8/site-packages (from validators>=0.2->streamlit->simpletransformers) (5.1.1)\n",
      "Requirement already satisfied: MarkupSafe>=2.1.1 in /Users/scottclare/miniconda3/envs/tech_discussion_group/lib/python3.8/site-packages (from werkzeug>=1.0.1->tensorboard->simpletransformers) (2.1.2)\n",
      "Requirement already satisfied: smmap<6,>=3.0.1 in /Users/scottclare/miniconda3/envs/tech_discussion_group/lib/python3.8/site-packages (from gitdb<5,>=4.0.1->GitPython!=3.1.29,>=1.0.0->wandb>=0.10.32->simpletransformers) (5.0.0)\n",
      "Requirement already satisfied: importlib-resources>=1.4.0 in /Users/scottclare/miniconda3/envs/tech_discussion_group/lib/python3.8/site-packages (from jsonschema>=3.0->altair<5,>=3.2.0->streamlit->simpletransformers) (5.12.0)\n",
      "Requirement already satisfied: pyrsistent!=0.17.0,!=0.17.1,!=0.17.2,>=0.14.0 in /Users/scottclare/miniconda3/envs/tech_discussion_group/lib/python3.8/site-packages (from jsonschema>=3.0->altair<5,>=3.2.0->streamlit->simpletransformers) (0.19.3)\n",
      "Requirement already satisfied: pkgutil-resolve-name>=1.3.10 in /Users/scottclare/miniconda3/envs/tech_discussion_group/lib/python3.8/site-packages (from jsonschema>=3.0->altair<5,>=3.2.0->streamlit->simpletransformers) (1.3.10)\n",
      "Requirement already satisfied: mdurl~=0.1 in /Users/scottclare/miniconda3/envs/tech_discussion_group/lib/python3.8/site-packages (from markdown-it-py<3.0.0,>=2.2.0->rich>=10.11.0->streamlit->simpletransformers) (0.1.2)\n",
      "Requirement already satisfied: pyasn1<0.5.0,>=0.4.6 in /Users/scottclare/miniconda3/envs/tech_discussion_group/lib/python3.8/site-packages (from pyasn1-modules>=0.2.1->google-auth<3,>=1.6.3->tensorboard->simpletransformers) (0.4.8)\n",
      "Requirement already satisfied: oauthlib>=3.0.0 in /Users/scottclare/miniconda3/envs/tech_discussion_group/lib/python3.8/site-packages (from requests-oauthlib>=0.7.0->google-auth-oauthlib<0.5,>=0.4.1->tensorboard->simpletransformers) (3.2.2)\n",
      "Requirement already satisfied: tzdata in /Users/scottclare/miniconda3/envs/tech_discussion_group/lib/python3.8/site-packages (from pytz-deprecation-shim->tzlocal>=1.1->streamlit->simpletransformers) (2022.7)\n",
      "Collecting torch\n",
      "  Downloading torch-2.0.0-cp38-none-macosx_11_0_arm64.whl (55.8 MB)\n",
      "\u001b[2K     \u001b[90m━━━━━━━━━━━━━━━━━━━━━━━━━━━━━━━━━━━━━━━━\u001b[0m \u001b[32m55.8/55.8 MB\u001b[0m \u001b[31m4.0 MB/s\u001b[0m eta \u001b[36m0:00:00\u001b[0m00:01\u001b[0m00:01\u001b[0m\n",
      "\u001b[?25hRequirement already satisfied: typing-extensions in /Users/scottclare/miniconda3/envs/tech_discussion_group/lib/python3.8/site-packages (from torch) (4.5.0)\n",
      "Requirement already satisfied: jinja2 in /Users/scottclare/miniconda3/envs/tech_discussion_group/lib/python3.8/site-packages (from torch) (3.1.2)\n",
      "Requirement already satisfied: filelock in /Users/scottclare/miniconda3/envs/tech_discussion_group/lib/python3.8/site-packages (from torch) (3.10.0)\n",
      "Collecting sympy\n",
      "  Using cached sympy-1.11.1-py3-none-any.whl (6.5 MB)\n",
      "Collecting networkx\n",
      "  Downloading networkx-3.0-py3-none-any.whl (2.0 MB)\n",
      "\u001b[2K     \u001b[90m━━━━━━━━━━━━━━━━━━━━━━━━━━━━━━━━━━━━━━━━\u001b[0m \u001b[32m2.0/2.0 MB\u001b[0m \u001b[31m3.7 MB/s\u001b[0m eta \u001b[36m0:00:00\u001b[0m00:01\u001b[0m00:01\u001b[0m\n",
      "\u001b[?25hRequirement already satisfied: MarkupSafe>=2.0 in /Users/scottclare/miniconda3/envs/tech_discussion_group/lib/python3.8/site-packages (from jinja2->torch) (2.1.2)\n",
      "Collecting mpmath>=0.19\n",
      "  Downloading mpmath-1.3.0-py3-none-any.whl (536 kB)\n",
      "\u001b[2K     \u001b[90m━━━━━━━━━━━━━━━━━━━━━━━━━━━━━━━━━━━━━━━\u001b[0m \u001b[32m536.2/536.2 kB\u001b[0m \u001b[31m3.2 MB/s\u001b[0m eta \u001b[36m0:00:00\u001b[0ma \u001b[36m0:00:01\u001b[0m\n",
      "\u001b[?25hInstalling collected packages: mpmath, sympy, networkx, torch\n",
      "Successfully installed mpmath-1.3.0 networkx-3.0 sympy-1.11.1 torch-2.0.0\n"
     ]
    }
   ],
   "source": [
    "!pip install wandb\n",
    "!pip install scikit-learn\n",
    "!pip install pandas\n",
    "!pip install numpy"
   ]
  },
  {
   "cell_type": "code",
   "execution_count": 37,
   "id": "b3f9a0f9",
   "metadata": {},
   "outputs": [],
   "source": [
    "from sklearn.ensemble import RandomForestClassifier\n",
    "from sklearn.datasets import load_breast_cancer, fetch_20newsgroups\n",
    "from sklearn.model_selection import KFold, train_test_split\n",
    "import wandb\n",
    "import pandas as pd\n",
    "from sklearn.metrics import f1_score, precision_score, recall_score, accuracy_score, log_loss\n",
    "import numpy as np\n",
    "from simpletransformers.classification import MultiLabelClassificationArgs, MultiLabelClassificationModel"
   ]
  },
  {
   "cell_type": "markdown",
   "id": "1178c075",
   "metadata": {},
   "source": [
    "# Loading in data"
   ]
  },
  {
   "cell_type": "code",
   "execution_count": 40,
   "id": "7eb80326",
   "metadata": {},
   "outputs": [],
   "source": [
    "data = load_breast_cancer()"
   ]
  },
  {
   "cell_type": "code",
   "execution_count": 22,
   "id": "9a6a694e",
   "metadata": {},
   "outputs": [
    {
     "name": "stdout",
     "output_type": "stream",
     "text": [
      "['mean radius' 'mean texture' 'mean perimeter' 'mean area'\n",
      " 'mean smoothness' 'mean compactness' 'mean concavity'\n",
      " 'mean concave points' 'mean symmetry' 'mean fractal dimension'\n",
      " 'radius error' 'texture error' 'perimeter error' 'area error'\n",
      " 'smoothness error' 'compactness error' 'concavity error'\n",
      " 'concave points error' 'symmetry error' 'fractal dimension error'\n",
      " 'worst radius' 'worst texture' 'worst perimeter' 'worst area'\n",
      " 'worst smoothness' 'worst compactness' 'worst concavity'\n",
      " 'worst concave points' 'worst symmetry' 'worst fractal dimension']\n"
     ]
    }
   ],
   "source": [
    "print(data.feature_names)"
   ]
  },
  {
   "cell_type": "code",
   "execution_count": 23,
   "id": "1b321dd6",
   "metadata": {},
   "outputs": [
    {
     "name": "stdout",
     "output_type": "stream",
     "text": [
      "['malignant' 'benign']\n"
     ]
    }
   ],
   "source": [
    "print(data.target_names)"
   ]
  },
  {
   "cell_type": "code",
   "execution_count": 41,
   "id": "d8b2b6f4",
   "metadata": {},
   "outputs": [],
   "source": [
    "X = pd.DataFrame(data.data, columns=data.feature_names)\n",
    "y = data.target"
   ]
  },
  {
   "cell_type": "code",
   "execution_count": 42,
   "id": "8118cb41",
   "metadata": {},
   "outputs": [],
   "source": [
    "X_train, X_test, y_train, y_test = train_test_split(X, y, test_size=0.2)"
   ]
  },
  {
   "cell_type": "markdown",
   "id": "6cc32483",
   "metadata": {},
   "source": [
    "# Basic Example with Pretty Graphs"
   ]
  },
  {
   "cell_type": "code",
   "execution_count": 6,
   "id": "29f33810",
   "metadata": {},
   "outputs": [],
   "source": [
    "def main():\n",
    "#     Call wandb.init() to start server\n",
    "    wandb.init(project=\"pretty_graphs_run\")\n",
    "#     Instantiate model\n",
    "    model = RandomForestClassifier(random_state=42)\n",
    "#     Fit model with training data\n",
    "    model.fit(X_train, y_train)\n",
    "#     Make predictions\n",
    "    y_pred = model.predict(X_test)\n",
    "    y_prob = model.predict_proba(X_test)\n",
    "#     Generate output plots\n",
    "    wandb.sklearn.plot_confusion_matrix(y_test, y_pred, data.target_names)\n",
    "    wandb.sklearn.plot_learning_curve(model, X, y)\n",
    "    wandb.sklearn.plot_classifier(model, X_train, X_test, y_train, y_test, y_pred, y_prob, data.target_names,\n",
    "                                                         model_name='RF', feature_names=data.feature_names)\n",
    "    wandb.sklearn.plot_precision_recall(y_test, y_prob, data.target_names)\n",
    "    wandb.sklearn.plot_feature_importances(model, data.feature_names)\n",
    "#     Compute performance\n",
    "    f1 = f1_score(y_test, y_pred)\n",
    "    precision = precision_score(y_test, y_pred)\n",
    "    recall = recall_score(y_test, y_pred)\n",
    "#     Log results\n",
    "    wandb.log(\n",
    "        {\n",
    "            \"F1-Score\": f1,\n",
    "            \"Precision\": precision,\n",
    "            \"Recall\": recall\n",
    "        }\n",
    "    )\n",
    "#     Close server\n",
    "    wandb.finish()"
   ]
  },
  {
   "cell_type": "code",
   "execution_count": 7,
   "id": "514f92ed",
   "metadata": {},
   "outputs": [
    {
     "name": "stderr",
     "output_type": "stream",
     "text": [
      "\u001b[34m\u001b[1mwandb\u001b[0m: Currently logged in as: \u001b[33mscott-clare\u001b[0m. Use \u001b[1m`wandb login --relogin`\u001b[0m to force relogin\n"
     ]
    },
    {
     "data": {
      "text/html": [
       "Tracking run with wandb version 0.14.0"
      ],
      "text/plain": [
       "<IPython.core.display.HTML object>"
      ]
     },
     "metadata": {},
     "output_type": "display_data"
    },
    {
     "data": {
      "text/html": [
       "Run data is saved locally in <code>/Users/scottclare/repos/local/wandb_technical_discussion_group/wandb/run-20230321_094744-xzze6ww6</code>"
      ],
      "text/plain": [
       "<IPython.core.display.HTML object>"
      ]
     },
     "metadata": {},
     "output_type": "display_data"
    },
    {
     "data": {
      "text/html": [
       "Syncing run <strong><a href='https://wandb.ai/scott-clare/pretty_graphs_run/runs/xzze6ww6' target=\"_blank\">deft-grass-1</a></strong> to <a href='https://wandb.ai/scott-clare/pretty_graphs_run' target=\"_blank\">Weights & Biases</a> (<a href='https://wandb.me/run' target=\"_blank\">docs</a>)<br/>"
      ],
      "text/plain": [
       "<IPython.core.display.HTML object>"
      ]
     },
     "metadata": {},
     "output_type": "display_data"
    },
    {
     "data": {
      "text/html": [
       " View project at <a href='https://wandb.ai/scott-clare/pretty_graphs_run' target=\"_blank\">https://wandb.ai/scott-clare/pretty_graphs_run</a>"
      ],
      "text/plain": [
       "<IPython.core.display.HTML object>"
      ]
     },
     "metadata": {},
     "output_type": "display_data"
    },
    {
     "data": {
      "text/html": [
       " View run at <a href='https://wandb.ai/scott-clare/pretty_graphs_run/runs/xzze6ww6' target=\"_blank\">https://wandb.ai/scott-clare/pretty_graphs_run/runs/xzze6ww6</a>"
      ],
      "text/plain": [
       "<IPython.core.display.HTML object>"
      ]
     },
     "metadata": {},
     "output_type": "display_data"
    },
    {
     "name": "stderr",
     "output_type": "stream",
     "text": [
      "\u001b[34m\u001b[1mwandb\u001b[0m: \n",
      "\u001b[34m\u001b[1mwandb\u001b[0m: Plotting RF.\n",
      "/Users/scottclare/miniconda3/envs/tech_discussion_group/lib/python3.8/site-packages/sklearn/base.py:439: UserWarning: X does not have valid feature names, but RandomForestClassifier was fitted with feature names\n",
      "  warnings.warn(\n",
      "\u001b[34m\u001b[1mwandb\u001b[0m: Logged feature importances.\n",
      "\u001b[34m\u001b[1mwandb\u001b[0m: Logged confusion matrix.\n",
      "/Users/scottclare/miniconda3/envs/tech_discussion_group/lib/python3.8/site-packages/sklearn/base.py:439: UserWarning: X does not have valid feature names, but RandomForestClassifier was fitted with feature names\n",
      "  warnings.warn(\n",
      "\u001b[34m\u001b[1mwandb\u001b[0m: Logged summary metrics.\n",
      "\u001b[34m\u001b[1mwandb\u001b[0m: Logged class proportions.\n",
      "/Users/scottclare/miniconda3/envs/tech_discussion_group/lib/python3.8/site-packages/sklearn/base.py:439: UserWarning: X does not have valid feature names, but RandomForestClassifier was fitted with feature names\n",
      "  warnings.warn(\n",
      "/Users/scottclare/miniconda3/envs/tech_discussion_group/lib/python3.8/site-packages/sklearn/linear_model/_logistic.py:458: ConvergenceWarning: lbfgs failed to converge (status=1):\n",
      "STOP: TOTAL NO. of ITERATIONS REACHED LIMIT.\n",
      "\n",
      "Increase the number of iterations (max_iter) or scale the data as shown in:\n",
      "    https://scikit-learn.org/stable/modules/preprocessing.html\n",
      "Please also refer to the documentation for alternative solver options:\n",
      "    https://scikit-learn.org/stable/modules/linear_model.html#logistic-regression\n",
      "  n_iter_i = _check_optimize_result(\n",
      "\u001b[34m\u001b[1mwandb\u001b[0m: Logged calibration curve.\n",
      "\u001b[34m\u001b[1mwandb\u001b[0m: \u001b[33mWARNING\u001b[0m wandb.plots.* functions are deprecated and will be removed in a future release. Please use wandb.plot.* instead.\n",
      "\u001b[34m\u001b[1mwandb\u001b[0m: Logged roc curve.\n",
      "\u001b[34m\u001b[1mwandb\u001b[0m: Logged precision-recall curve.\n",
      "/Users/scottclare/miniconda3/envs/tech_discussion_group/lib/python3.8/site-packages/sklearn/base.py:439: UserWarning: X does not have valid feature names, but RandomForestClassifier was fitted with feature names\n",
      "  warnings.warn(\n"
     ]
    },
    {
     "data": {
      "text/html": [
       "Waiting for W&B process to finish... <strong style=\"color:green\">(success).</strong>"
      ],
      "text/plain": [
       "<IPython.core.display.HTML object>"
      ]
     },
     "metadata": {},
     "output_type": "display_data"
    },
    {
     "data": {
      "text/html": [
       "<style>\n",
       "    table.wandb td:nth-child(1) { padding: 0 10px; text-align: left ; width: auto;} td:nth-child(2) {text-align: left ; width: 100%}\n",
       "    .wandb-row { display: flex; flex-direction: row; flex-wrap: wrap; justify-content: flex-start; width: 100% }\n",
       "    .wandb-col { display: flex; flex-direction: column; flex-basis: 100%; flex: 1; padding: 10px; }\n",
       "    </style>\n",
       "<div class=\"wandb-row\"><div class=\"wandb-col\"><h3>Run history:</h3><br/><table class=\"wandb\"><tr><td>F1-Score</td><td>▁</td></tr><tr><td>Precision</td><td>▁</td></tr><tr><td>Recall</td><td>▁</td></tr></table><br/></div><div class=\"wandb-col\"><h3>Run summary:</h3><br/><table class=\"wandb\"><tr><td>F1-Score</td><td>0.95105</td></tr><tr><td>Precision</td><td>0.94444</td></tr><tr><td>Recall</td><td>0.95775</td></tr></table><br/></div></div>"
      ],
      "text/plain": [
       "<IPython.core.display.HTML object>"
      ]
     },
     "metadata": {},
     "output_type": "display_data"
    },
    {
     "data": {
      "text/html": [
       " View run <strong style=\"color:#cdcd00\">deft-grass-1</strong> at: <a href='https://wandb.ai/scott-clare/pretty_graphs_run/runs/xzze6ww6' target=\"_blank\">https://wandb.ai/scott-clare/pretty_graphs_run/runs/xzze6ww6</a><br/>Synced 6 W&B file(s), 11 media file(s), 8 artifact file(s) and 0 other file(s)"
      ],
      "text/plain": [
       "<IPython.core.display.HTML object>"
      ]
     },
     "metadata": {},
     "output_type": "display_data"
    },
    {
     "data": {
      "text/html": [
       "Find logs at: <code>./wandb/run-20230321_094744-xzze6ww6/logs</code>"
      ],
      "text/plain": [
       "<IPython.core.display.HTML object>"
      ]
     },
     "metadata": {},
     "output_type": "display_data"
    }
   ],
   "source": [
    "main()"
   ]
  },
  {
   "cell_type": "markdown",
   "id": "2e6268ae",
   "metadata": {},
   "source": [
    "# Plotting metrics every step/iteration"
   ]
  },
  {
   "cell_type": "code",
   "execution_count": 43,
   "id": "c6f225cd",
   "metadata": {},
   "outputs": [],
   "source": [
    "def main():\n",
    "#     Call wandb.init() to start server\n",
    "    with wandb.init(project=\"logistic_regression\") as run:\n",
    "\n",
    "        n_iters = 300\n",
    "        learning_rate = 0.001\n",
    "    \n",
    "        def _sigmoid(x):\n",
    "            return 1/(1+np.exp(-x))\n",
    "\n",
    "        n_samples, n_features = X_train.shape\n",
    "        weights = np.zeros(n_features)\n",
    "        bias = 0\n",
    "\n",
    "        for iteration in range(n_iters):\n",
    "            linear_pred = np.dot(X_train, weights) + bias\n",
    "            probabilities = _sigmoid(linear_pred)\n",
    "            predictions = [0 if prob <= 0.5 else 1 for prob in probabilities]\n",
    "\n",
    "            dw = (1 / n_samples) * np.dot(X_train.T, (probabilities - y_train))\n",
    "            db = (1 / n_samples) * np.sum(probabilities - y_train)\n",
    "            \n",
    "            weights = weights - learning_rate * dw\n",
    "            bias = bias - learning_rate * db\n",
    "            wandb.log(\n",
    "                {\n",
    "                    \"log_loss\": log_loss(y_train, probabilities),\n",
    "                    \"accuracy\": accuracy_score(y_train, predictions)\n",
    "                }\n",
    "            )\n",
    "\n",
    "        linear_pred = np.dot(X_test, weights) + bias\n",
    "        y_prob = _sigmoid(linear_pred)\n",
    "        y_pred = [0 if prob<=0.5 else 1 for prob in y_prob]\n",
    "\n",
    "    #     Generate output plots\n",
    "        wandb.sklearn.plot_confusion_matrix(y_test, y_pred, data.target_names)\n",
    "\n",
    "    #     Compute performance\n",
    "        f1 = f1_score(y_test, y_pred)\n",
    "        precision = precision_score(y_test, y_pred)\n",
    "        recall = recall_score(y_test, y_pred)\n",
    "#         Log results\n",
    "        wandb.log(\n",
    "            {\n",
    "                \"F1-Score\": f1,\n",
    "                \"Precision\": precision,\n",
    "                \"Recall\": recall\n",
    "            }\n",
    "        )"
   ]
  },
  {
   "cell_type": "code",
   "execution_count": 44,
   "id": "3eb5fcd4",
   "metadata": {},
   "outputs": [
    {
     "data": {
      "text/html": [
       "Tracking run with wandb version 0.14.0"
      ],
      "text/plain": [
       "<IPython.core.display.HTML object>"
      ]
     },
     "metadata": {},
     "output_type": "display_data"
    },
    {
     "data": {
      "text/html": [
       "Run data is saved locally in <code>/Users/scottclare/repos/local/wandb_technical_discussion_group/wandb/run-20230321_104128-lnvjtu7w</code>"
      ],
      "text/plain": [
       "<IPython.core.display.HTML object>"
      ]
     },
     "metadata": {},
     "output_type": "display_data"
    },
    {
     "data": {
      "text/html": [
       "Syncing run <strong><a href='https://wandb.ai/scott-clare/logistic_regression/runs/lnvjtu7w' target=\"_blank\">northern-flower-10</a></strong> to <a href='https://wandb.ai/scott-clare/logistic_regression' target=\"_blank\">Weights & Biases</a> (<a href='https://wandb.me/run' target=\"_blank\">docs</a>)<br/>"
      ],
      "text/plain": [
       "<IPython.core.display.HTML object>"
      ]
     },
     "metadata": {},
     "output_type": "display_data"
    },
    {
     "data": {
      "text/html": [
       " View project at <a href='https://wandb.ai/scott-clare/logistic_regression' target=\"_blank\">https://wandb.ai/scott-clare/logistic_regression</a>"
      ],
      "text/plain": [
       "<IPython.core.display.HTML object>"
      ]
     },
     "metadata": {},
     "output_type": "display_data"
    },
    {
     "data": {
      "text/html": [
       " View run at <a href='https://wandb.ai/scott-clare/logistic_regression/runs/lnvjtu7w' target=\"_blank\">https://wandb.ai/scott-clare/logistic_regression/runs/lnvjtu7w</a>"
      ],
      "text/plain": [
       "<IPython.core.display.HTML object>"
      ]
     },
     "metadata": {},
     "output_type": "display_data"
    },
    {
     "name": "stderr",
     "output_type": "stream",
     "text": [
      "/var/folders/1l/ry3dd_s55j13rdvlhgfn7kv00000gn/T/ipykernel_89305/352022253.py:9: RuntimeWarning: overflow encountered in exp\n",
      "  return 1/(1+np.exp(-x))\n",
      "/var/folders/1l/ry3dd_s55j13rdvlhgfn7kv00000gn/T/ipykernel_89305/352022253.py:9: RuntimeWarning: overflow encountered in exp\n",
      "  return 1/(1+np.exp(-x))\n",
      "/var/folders/1l/ry3dd_s55j13rdvlhgfn7kv00000gn/T/ipykernel_89305/352022253.py:9: RuntimeWarning: overflow encountered in exp\n",
      "  return 1/(1+np.exp(-x))\n",
      "/var/folders/1l/ry3dd_s55j13rdvlhgfn7kv00000gn/T/ipykernel_89305/352022253.py:9: RuntimeWarning: overflow encountered in exp\n",
      "  return 1/(1+np.exp(-x))\n",
      "/var/folders/1l/ry3dd_s55j13rdvlhgfn7kv00000gn/T/ipykernel_89305/352022253.py:9: RuntimeWarning: overflow encountered in exp\n",
      "  return 1/(1+np.exp(-x))\n",
      "/var/folders/1l/ry3dd_s55j13rdvlhgfn7kv00000gn/T/ipykernel_89305/352022253.py:9: RuntimeWarning: overflow encountered in exp\n",
      "  return 1/(1+np.exp(-x))\n",
      "/var/folders/1l/ry3dd_s55j13rdvlhgfn7kv00000gn/T/ipykernel_89305/352022253.py:9: RuntimeWarning: overflow encountered in exp\n",
      "  return 1/(1+np.exp(-x))\n",
      "/var/folders/1l/ry3dd_s55j13rdvlhgfn7kv00000gn/T/ipykernel_89305/352022253.py:9: RuntimeWarning: overflow encountered in exp\n",
      "  return 1/(1+np.exp(-x))\n",
      "/var/folders/1l/ry3dd_s55j13rdvlhgfn7kv00000gn/T/ipykernel_89305/352022253.py:9: RuntimeWarning: overflow encountered in exp\n",
      "  return 1/(1+np.exp(-x))\n",
      "/var/folders/1l/ry3dd_s55j13rdvlhgfn7kv00000gn/T/ipykernel_89305/352022253.py:9: RuntimeWarning: overflow encountered in exp\n",
      "  return 1/(1+np.exp(-x))\n",
      "/var/folders/1l/ry3dd_s55j13rdvlhgfn7kv00000gn/T/ipykernel_89305/352022253.py:9: RuntimeWarning: overflow encountered in exp\n",
      "  return 1/(1+np.exp(-x))\n",
      "/var/folders/1l/ry3dd_s55j13rdvlhgfn7kv00000gn/T/ipykernel_89305/352022253.py:9: RuntimeWarning: overflow encountered in exp\n",
      "  return 1/(1+np.exp(-x))\n",
      "/var/folders/1l/ry3dd_s55j13rdvlhgfn7kv00000gn/T/ipykernel_89305/352022253.py:9: RuntimeWarning: overflow encountered in exp\n",
      "  return 1/(1+np.exp(-x))\n",
      "/var/folders/1l/ry3dd_s55j13rdvlhgfn7kv00000gn/T/ipykernel_89305/352022253.py:9: RuntimeWarning: overflow encountered in exp\n",
      "  return 1/(1+np.exp(-x))\n",
      "/var/folders/1l/ry3dd_s55j13rdvlhgfn7kv00000gn/T/ipykernel_89305/352022253.py:9: RuntimeWarning: overflow encountered in exp\n",
      "  return 1/(1+np.exp(-x))\n",
      "/var/folders/1l/ry3dd_s55j13rdvlhgfn7kv00000gn/T/ipykernel_89305/352022253.py:9: RuntimeWarning: overflow encountered in exp\n",
      "  return 1/(1+np.exp(-x))\n",
      "/var/folders/1l/ry3dd_s55j13rdvlhgfn7kv00000gn/T/ipykernel_89305/352022253.py:9: RuntimeWarning: overflow encountered in exp\n",
      "  return 1/(1+np.exp(-x))\n",
      "/var/folders/1l/ry3dd_s55j13rdvlhgfn7kv00000gn/T/ipykernel_89305/352022253.py:9: RuntimeWarning: overflow encountered in exp\n",
      "  return 1/(1+np.exp(-x))\n",
      "/var/folders/1l/ry3dd_s55j13rdvlhgfn7kv00000gn/T/ipykernel_89305/352022253.py:9: RuntimeWarning: overflow encountered in exp\n",
      "  return 1/(1+np.exp(-x))\n",
      "/var/folders/1l/ry3dd_s55j13rdvlhgfn7kv00000gn/T/ipykernel_89305/352022253.py:9: RuntimeWarning: overflow encountered in exp\n",
      "  return 1/(1+np.exp(-x))\n",
      "/var/folders/1l/ry3dd_s55j13rdvlhgfn7kv00000gn/T/ipykernel_89305/352022253.py:9: RuntimeWarning: overflow encountered in exp\n",
      "  return 1/(1+np.exp(-x))\n",
      "/var/folders/1l/ry3dd_s55j13rdvlhgfn7kv00000gn/T/ipykernel_89305/352022253.py:9: RuntimeWarning: overflow encountered in exp\n",
      "  return 1/(1+np.exp(-x))\n",
      "/var/folders/1l/ry3dd_s55j13rdvlhgfn7kv00000gn/T/ipykernel_89305/352022253.py:9: RuntimeWarning: overflow encountered in exp\n",
      "  return 1/(1+np.exp(-x))\n",
      "/var/folders/1l/ry3dd_s55j13rdvlhgfn7kv00000gn/T/ipykernel_89305/352022253.py:9: RuntimeWarning: overflow encountered in exp\n",
      "  return 1/(1+np.exp(-x))\n",
      "/var/folders/1l/ry3dd_s55j13rdvlhgfn7kv00000gn/T/ipykernel_89305/352022253.py:9: RuntimeWarning: overflow encountered in exp\n",
      "  return 1/(1+np.exp(-x))\n",
      "/var/folders/1l/ry3dd_s55j13rdvlhgfn7kv00000gn/T/ipykernel_89305/352022253.py:9: RuntimeWarning: overflow encountered in exp\n",
      "  return 1/(1+np.exp(-x))\n",
      "/var/folders/1l/ry3dd_s55j13rdvlhgfn7kv00000gn/T/ipykernel_89305/352022253.py:9: RuntimeWarning: overflow encountered in exp\n",
      "  return 1/(1+np.exp(-x))\n",
      "/var/folders/1l/ry3dd_s55j13rdvlhgfn7kv00000gn/T/ipykernel_89305/352022253.py:9: RuntimeWarning: overflow encountered in exp\n",
      "  return 1/(1+np.exp(-x))\n",
      "/var/folders/1l/ry3dd_s55j13rdvlhgfn7kv00000gn/T/ipykernel_89305/352022253.py:9: RuntimeWarning: overflow encountered in exp\n",
      "  return 1/(1+np.exp(-x))\n",
      "/var/folders/1l/ry3dd_s55j13rdvlhgfn7kv00000gn/T/ipykernel_89305/352022253.py:9: RuntimeWarning: overflow encountered in exp\n",
      "  return 1/(1+np.exp(-x))\n",
      "/var/folders/1l/ry3dd_s55j13rdvlhgfn7kv00000gn/T/ipykernel_89305/352022253.py:9: RuntimeWarning: overflow encountered in exp\n",
      "  return 1/(1+np.exp(-x))\n",
      "/var/folders/1l/ry3dd_s55j13rdvlhgfn7kv00000gn/T/ipykernel_89305/352022253.py:9: RuntimeWarning: overflow encountered in exp\n",
      "  return 1/(1+np.exp(-x))\n",
      "/var/folders/1l/ry3dd_s55j13rdvlhgfn7kv00000gn/T/ipykernel_89305/352022253.py:9: RuntimeWarning: overflow encountered in exp\n",
      "  return 1/(1+np.exp(-x))\n",
      "/var/folders/1l/ry3dd_s55j13rdvlhgfn7kv00000gn/T/ipykernel_89305/352022253.py:9: RuntimeWarning: overflow encountered in exp\n",
      "  return 1/(1+np.exp(-x))\n",
      "/var/folders/1l/ry3dd_s55j13rdvlhgfn7kv00000gn/T/ipykernel_89305/352022253.py:9: RuntimeWarning: overflow encountered in exp\n",
      "  return 1/(1+np.exp(-x))\n",
      "/var/folders/1l/ry3dd_s55j13rdvlhgfn7kv00000gn/T/ipykernel_89305/352022253.py:9: RuntimeWarning: overflow encountered in exp\n",
      "  return 1/(1+np.exp(-x))\n",
      "/var/folders/1l/ry3dd_s55j13rdvlhgfn7kv00000gn/T/ipykernel_89305/352022253.py:9: RuntimeWarning: overflow encountered in exp\n",
      "  return 1/(1+np.exp(-x))\n",
      "/var/folders/1l/ry3dd_s55j13rdvlhgfn7kv00000gn/T/ipykernel_89305/352022253.py:9: RuntimeWarning: overflow encountered in exp\n",
      "  return 1/(1+np.exp(-x))\n",
      "/var/folders/1l/ry3dd_s55j13rdvlhgfn7kv00000gn/T/ipykernel_89305/352022253.py:9: RuntimeWarning: overflow encountered in exp\n",
      "  return 1/(1+np.exp(-x))\n",
      "/var/folders/1l/ry3dd_s55j13rdvlhgfn7kv00000gn/T/ipykernel_89305/352022253.py:9: RuntimeWarning: overflow encountered in exp\n",
      "  return 1/(1+np.exp(-x))\n",
      "/var/folders/1l/ry3dd_s55j13rdvlhgfn7kv00000gn/T/ipykernel_89305/352022253.py:9: RuntimeWarning: overflow encountered in exp\n",
      "  return 1/(1+np.exp(-x))\n",
      "/var/folders/1l/ry3dd_s55j13rdvlhgfn7kv00000gn/T/ipykernel_89305/352022253.py:9: RuntimeWarning: overflow encountered in exp\n",
      "  return 1/(1+np.exp(-x))\n",
      "/var/folders/1l/ry3dd_s55j13rdvlhgfn7kv00000gn/T/ipykernel_89305/352022253.py:9: RuntimeWarning: overflow encountered in exp\n",
      "  return 1/(1+np.exp(-x))\n",
      "/var/folders/1l/ry3dd_s55j13rdvlhgfn7kv00000gn/T/ipykernel_89305/352022253.py:9: RuntimeWarning: overflow encountered in exp\n",
      "  return 1/(1+np.exp(-x))\n",
      "/var/folders/1l/ry3dd_s55j13rdvlhgfn7kv00000gn/T/ipykernel_89305/352022253.py:9: RuntimeWarning: overflow encountered in exp\n",
      "  return 1/(1+np.exp(-x))\n",
      "/var/folders/1l/ry3dd_s55j13rdvlhgfn7kv00000gn/T/ipykernel_89305/352022253.py:9: RuntimeWarning: overflow encountered in exp\n",
      "  return 1/(1+np.exp(-x))\n",
      "/var/folders/1l/ry3dd_s55j13rdvlhgfn7kv00000gn/T/ipykernel_89305/352022253.py:9: RuntimeWarning: overflow encountered in exp\n",
      "  return 1/(1+np.exp(-x))\n",
      "/var/folders/1l/ry3dd_s55j13rdvlhgfn7kv00000gn/T/ipykernel_89305/352022253.py:9: RuntimeWarning: overflow encountered in exp\n",
      "  return 1/(1+np.exp(-x))\n",
      "/var/folders/1l/ry3dd_s55j13rdvlhgfn7kv00000gn/T/ipykernel_89305/352022253.py:9: RuntimeWarning: overflow encountered in exp\n",
      "  return 1/(1+np.exp(-x))\n",
      "/var/folders/1l/ry3dd_s55j13rdvlhgfn7kv00000gn/T/ipykernel_89305/352022253.py:9: RuntimeWarning: overflow encountered in exp\n",
      "  return 1/(1+np.exp(-x))\n",
      "/var/folders/1l/ry3dd_s55j13rdvlhgfn7kv00000gn/T/ipykernel_89305/352022253.py:9: RuntimeWarning: overflow encountered in exp\n",
      "  return 1/(1+np.exp(-x))\n",
      "/var/folders/1l/ry3dd_s55j13rdvlhgfn7kv00000gn/T/ipykernel_89305/352022253.py:9: RuntimeWarning: overflow encountered in exp\n",
      "  return 1/(1+np.exp(-x))\n",
      "/var/folders/1l/ry3dd_s55j13rdvlhgfn7kv00000gn/T/ipykernel_89305/352022253.py:9: RuntimeWarning: overflow encountered in exp\n",
      "  return 1/(1+np.exp(-x))\n",
      "/var/folders/1l/ry3dd_s55j13rdvlhgfn7kv00000gn/T/ipykernel_89305/352022253.py:9: RuntimeWarning: overflow encountered in exp\n",
      "  return 1/(1+np.exp(-x))\n",
      "/var/folders/1l/ry3dd_s55j13rdvlhgfn7kv00000gn/T/ipykernel_89305/352022253.py:9: RuntimeWarning: overflow encountered in exp\n",
      "  return 1/(1+np.exp(-x))\n",
      "/var/folders/1l/ry3dd_s55j13rdvlhgfn7kv00000gn/T/ipykernel_89305/352022253.py:9: RuntimeWarning: overflow encountered in exp\n",
      "  return 1/(1+np.exp(-x))\n",
      "/var/folders/1l/ry3dd_s55j13rdvlhgfn7kv00000gn/T/ipykernel_89305/352022253.py:9: RuntimeWarning: overflow encountered in exp\n",
      "  return 1/(1+np.exp(-x))\n",
      "/var/folders/1l/ry3dd_s55j13rdvlhgfn7kv00000gn/T/ipykernel_89305/352022253.py:9: RuntimeWarning: overflow encountered in exp\n",
      "  return 1/(1+np.exp(-x))\n",
      "/var/folders/1l/ry3dd_s55j13rdvlhgfn7kv00000gn/T/ipykernel_89305/352022253.py:9: RuntimeWarning: overflow encountered in exp\n",
      "  return 1/(1+np.exp(-x))\n",
      "/var/folders/1l/ry3dd_s55j13rdvlhgfn7kv00000gn/T/ipykernel_89305/352022253.py:9: RuntimeWarning: overflow encountered in exp\n",
      "  return 1/(1+np.exp(-x))\n",
      "/var/folders/1l/ry3dd_s55j13rdvlhgfn7kv00000gn/T/ipykernel_89305/352022253.py:9: RuntimeWarning: overflow encountered in exp\n",
      "  return 1/(1+np.exp(-x))\n",
      "/var/folders/1l/ry3dd_s55j13rdvlhgfn7kv00000gn/T/ipykernel_89305/352022253.py:9: RuntimeWarning: overflow encountered in exp\n",
      "  return 1/(1+np.exp(-x))\n",
      "/var/folders/1l/ry3dd_s55j13rdvlhgfn7kv00000gn/T/ipykernel_89305/352022253.py:9: RuntimeWarning: overflow encountered in exp\n",
      "  return 1/(1+np.exp(-x))\n",
      "/var/folders/1l/ry3dd_s55j13rdvlhgfn7kv00000gn/T/ipykernel_89305/352022253.py:9: RuntimeWarning: overflow encountered in exp\n",
      "  return 1/(1+np.exp(-x))\n",
      "/var/folders/1l/ry3dd_s55j13rdvlhgfn7kv00000gn/T/ipykernel_89305/352022253.py:9: RuntimeWarning: overflow encountered in exp\n",
      "  return 1/(1+np.exp(-x))\n",
      "/var/folders/1l/ry3dd_s55j13rdvlhgfn7kv00000gn/T/ipykernel_89305/352022253.py:9: RuntimeWarning: overflow encountered in exp\n",
      "  return 1/(1+np.exp(-x))\n",
      "/var/folders/1l/ry3dd_s55j13rdvlhgfn7kv00000gn/T/ipykernel_89305/352022253.py:9: RuntimeWarning: overflow encountered in exp\n",
      "  return 1/(1+np.exp(-x))\n",
      "/var/folders/1l/ry3dd_s55j13rdvlhgfn7kv00000gn/T/ipykernel_89305/352022253.py:9: RuntimeWarning: overflow encountered in exp\n",
      "  return 1/(1+np.exp(-x))\n",
      "/var/folders/1l/ry3dd_s55j13rdvlhgfn7kv00000gn/T/ipykernel_89305/352022253.py:9: RuntimeWarning: overflow encountered in exp\n",
      "  return 1/(1+np.exp(-x))\n",
      "/var/folders/1l/ry3dd_s55j13rdvlhgfn7kv00000gn/T/ipykernel_89305/352022253.py:9: RuntimeWarning: overflow encountered in exp\n",
      "  return 1/(1+np.exp(-x))\n"
     ]
    },
    {
     "name": "stderr",
     "output_type": "stream",
     "text": [
      "/var/folders/1l/ry3dd_s55j13rdvlhgfn7kv00000gn/T/ipykernel_89305/352022253.py:9: RuntimeWarning: overflow encountered in exp\n",
      "  return 1/(1+np.exp(-x))\n",
      "/var/folders/1l/ry3dd_s55j13rdvlhgfn7kv00000gn/T/ipykernel_89305/352022253.py:9: RuntimeWarning: overflow encountered in exp\n",
      "  return 1/(1+np.exp(-x))\n",
      "/var/folders/1l/ry3dd_s55j13rdvlhgfn7kv00000gn/T/ipykernel_89305/352022253.py:9: RuntimeWarning: overflow encountered in exp\n",
      "  return 1/(1+np.exp(-x))\n",
      "/var/folders/1l/ry3dd_s55j13rdvlhgfn7kv00000gn/T/ipykernel_89305/352022253.py:9: RuntimeWarning: overflow encountered in exp\n",
      "  return 1/(1+np.exp(-x))\n",
      "/var/folders/1l/ry3dd_s55j13rdvlhgfn7kv00000gn/T/ipykernel_89305/352022253.py:9: RuntimeWarning: overflow encountered in exp\n",
      "  return 1/(1+np.exp(-x))\n",
      "/var/folders/1l/ry3dd_s55j13rdvlhgfn7kv00000gn/T/ipykernel_89305/352022253.py:9: RuntimeWarning: overflow encountered in exp\n",
      "  return 1/(1+np.exp(-x))\n",
      "/var/folders/1l/ry3dd_s55j13rdvlhgfn7kv00000gn/T/ipykernel_89305/352022253.py:9: RuntimeWarning: overflow encountered in exp\n",
      "  return 1/(1+np.exp(-x))\n",
      "/var/folders/1l/ry3dd_s55j13rdvlhgfn7kv00000gn/T/ipykernel_89305/352022253.py:9: RuntimeWarning: overflow encountered in exp\n",
      "  return 1/(1+np.exp(-x))\n",
      "/var/folders/1l/ry3dd_s55j13rdvlhgfn7kv00000gn/T/ipykernel_89305/352022253.py:9: RuntimeWarning: overflow encountered in exp\n",
      "  return 1/(1+np.exp(-x))\n",
      "/var/folders/1l/ry3dd_s55j13rdvlhgfn7kv00000gn/T/ipykernel_89305/352022253.py:9: RuntimeWarning: overflow encountered in exp\n",
      "  return 1/(1+np.exp(-x))\n",
      "/var/folders/1l/ry3dd_s55j13rdvlhgfn7kv00000gn/T/ipykernel_89305/352022253.py:9: RuntimeWarning: overflow encountered in exp\n",
      "  return 1/(1+np.exp(-x))\n",
      "/var/folders/1l/ry3dd_s55j13rdvlhgfn7kv00000gn/T/ipykernel_89305/352022253.py:9: RuntimeWarning: overflow encountered in exp\n",
      "  return 1/(1+np.exp(-x))\n",
      "/var/folders/1l/ry3dd_s55j13rdvlhgfn7kv00000gn/T/ipykernel_89305/352022253.py:9: RuntimeWarning: overflow encountered in exp\n",
      "  return 1/(1+np.exp(-x))\n",
      "/var/folders/1l/ry3dd_s55j13rdvlhgfn7kv00000gn/T/ipykernel_89305/352022253.py:9: RuntimeWarning: overflow encountered in exp\n",
      "  return 1/(1+np.exp(-x))\n",
      "/var/folders/1l/ry3dd_s55j13rdvlhgfn7kv00000gn/T/ipykernel_89305/352022253.py:9: RuntimeWarning: overflow encountered in exp\n",
      "  return 1/(1+np.exp(-x))\n",
      "/var/folders/1l/ry3dd_s55j13rdvlhgfn7kv00000gn/T/ipykernel_89305/352022253.py:9: RuntimeWarning: overflow encountered in exp\n",
      "  return 1/(1+np.exp(-x))\n",
      "/var/folders/1l/ry3dd_s55j13rdvlhgfn7kv00000gn/T/ipykernel_89305/352022253.py:9: RuntimeWarning: overflow encountered in exp\n",
      "  return 1/(1+np.exp(-x))\n",
      "/var/folders/1l/ry3dd_s55j13rdvlhgfn7kv00000gn/T/ipykernel_89305/352022253.py:9: RuntimeWarning: overflow encountered in exp\n",
      "  return 1/(1+np.exp(-x))\n",
      "/var/folders/1l/ry3dd_s55j13rdvlhgfn7kv00000gn/T/ipykernel_89305/352022253.py:9: RuntimeWarning: overflow encountered in exp\n",
      "  return 1/(1+np.exp(-x))\n",
      "/var/folders/1l/ry3dd_s55j13rdvlhgfn7kv00000gn/T/ipykernel_89305/352022253.py:9: RuntimeWarning: overflow encountered in exp\n",
      "  return 1/(1+np.exp(-x))\n",
      "/var/folders/1l/ry3dd_s55j13rdvlhgfn7kv00000gn/T/ipykernel_89305/352022253.py:9: RuntimeWarning: overflow encountered in exp\n",
      "  return 1/(1+np.exp(-x))\n",
      "/var/folders/1l/ry3dd_s55j13rdvlhgfn7kv00000gn/T/ipykernel_89305/352022253.py:9: RuntimeWarning: overflow encountered in exp\n",
      "  return 1/(1+np.exp(-x))\n",
      "/var/folders/1l/ry3dd_s55j13rdvlhgfn7kv00000gn/T/ipykernel_89305/352022253.py:9: RuntimeWarning: overflow encountered in exp\n",
      "  return 1/(1+np.exp(-x))\n",
      "/var/folders/1l/ry3dd_s55j13rdvlhgfn7kv00000gn/T/ipykernel_89305/352022253.py:9: RuntimeWarning: overflow encountered in exp\n",
      "  return 1/(1+np.exp(-x))\n",
      "/var/folders/1l/ry3dd_s55j13rdvlhgfn7kv00000gn/T/ipykernel_89305/352022253.py:9: RuntimeWarning: overflow encountered in exp\n",
      "  return 1/(1+np.exp(-x))\n",
      "/var/folders/1l/ry3dd_s55j13rdvlhgfn7kv00000gn/T/ipykernel_89305/352022253.py:9: RuntimeWarning: overflow encountered in exp\n",
      "  return 1/(1+np.exp(-x))\n",
      "/var/folders/1l/ry3dd_s55j13rdvlhgfn7kv00000gn/T/ipykernel_89305/352022253.py:9: RuntimeWarning: overflow encountered in exp\n",
      "  return 1/(1+np.exp(-x))\n",
      "/var/folders/1l/ry3dd_s55j13rdvlhgfn7kv00000gn/T/ipykernel_89305/352022253.py:9: RuntimeWarning: overflow encountered in exp\n",
      "  return 1/(1+np.exp(-x))\n",
      "/var/folders/1l/ry3dd_s55j13rdvlhgfn7kv00000gn/T/ipykernel_89305/352022253.py:9: RuntimeWarning: overflow encountered in exp\n",
      "  return 1/(1+np.exp(-x))\n",
      "/var/folders/1l/ry3dd_s55j13rdvlhgfn7kv00000gn/T/ipykernel_89305/352022253.py:9: RuntimeWarning: overflow encountered in exp\n",
      "  return 1/(1+np.exp(-x))\n",
      "/var/folders/1l/ry3dd_s55j13rdvlhgfn7kv00000gn/T/ipykernel_89305/352022253.py:9: RuntimeWarning: overflow encountered in exp\n",
      "  return 1/(1+np.exp(-x))\n",
      "/var/folders/1l/ry3dd_s55j13rdvlhgfn7kv00000gn/T/ipykernel_89305/352022253.py:9: RuntimeWarning: overflow encountered in exp\n",
      "  return 1/(1+np.exp(-x))\n",
      "/var/folders/1l/ry3dd_s55j13rdvlhgfn7kv00000gn/T/ipykernel_89305/352022253.py:9: RuntimeWarning: overflow encountered in exp\n",
      "  return 1/(1+np.exp(-x))\n",
      "/var/folders/1l/ry3dd_s55j13rdvlhgfn7kv00000gn/T/ipykernel_89305/352022253.py:9: RuntimeWarning: overflow encountered in exp\n",
      "  return 1/(1+np.exp(-x))\n",
      "/var/folders/1l/ry3dd_s55j13rdvlhgfn7kv00000gn/T/ipykernel_89305/352022253.py:9: RuntimeWarning: overflow encountered in exp\n",
      "  return 1/(1+np.exp(-x))\n",
      "/var/folders/1l/ry3dd_s55j13rdvlhgfn7kv00000gn/T/ipykernel_89305/352022253.py:9: RuntimeWarning: overflow encountered in exp\n",
      "  return 1/(1+np.exp(-x))\n",
      "/var/folders/1l/ry3dd_s55j13rdvlhgfn7kv00000gn/T/ipykernel_89305/352022253.py:9: RuntimeWarning: overflow encountered in exp\n",
      "  return 1/(1+np.exp(-x))\n",
      "/var/folders/1l/ry3dd_s55j13rdvlhgfn7kv00000gn/T/ipykernel_89305/352022253.py:9: RuntimeWarning: overflow encountered in exp\n",
      "  return 1/(1+np.exp(-x))\n",
      "/var/folders/1l/ry3dd_s55j13rdvlhgfn7kv00000gn/T/ipykernel_89305/352022253.py:9: RuntimeWarning: overflow encountered in exp\n",
      "  return 1/(1+np.exp(-x))\n",
      "/var/folders/1l/ry3dd_s55j13rdvlhgfn7kv00000gn/T/ipykernel_89305/352022253.py:9: RuntimeWarning: overflow encountered in exp\n",
      "  return 1/(1+np.exp(-x))\n",
      "/var/folders/1l/ry3dd_s55j13rdvlhgfn7kv00000gn/T/ipykernel_89305/352022253.py:9: RuntimeWarning: overflow encountered in exp\n",
      "  return 1/(1+np.exp(-x))\n",
      "/var/folders/1l/ry3dd_s55j13rdvlhgfn7kv00000gn/T/ipykernel_89305/352022253.py:9: RuntimeWarning: overflow encountered in exp\n",
      "  return 1/(1+np.exp(-x))\n",
      "/var/folders/1l/ry3dd_s55j13rdvlhgfn7kv00000gn/T/ipykernel_89305/352022253.py:9: RuntimeWarning: overflow encountered in exp\n",
      "  return 1/(1+np.exp(-x))\n",
      "/var/folders/1l/ry3dd_s55j13rdvlhgfn7kv00000gn/T/ipykernel_89305/352022253.py:9: RuntimeWarning: overflow encountered in exp\n",
      "  return 1/(1+np.exp(-x))\n",
      "/var/folders/1l/ry3dd_s55j13rdvlhgfn7kv00000gn/T/ipykernel_89305/352022253.py:9: RuntimeWarning: overflow encountered in exp\n",
      "  return 1/(1+np.exp(-x))\n",
      "/var/folders/1l/ry3dd_s55j13rdvlhgfn7kv00000gn/T/ipykernel_89305/352022253.py:9: RuntimeWarning: overflow encountered in exp\n",
      "  return 1/(1+np.exp(-x))\n",
      "/var/folders/1l/ry3dd_s55j13rdvlhgfn7kv00000gn/T/ipykernel_89305/352022253.py:9: RuntimeWarning: overflow encountered in exp\n",
      "  return 1/(1+np.exp(-x))\n",
      "/var/folders/1l/ry3dd_s55j13rdvlhgfn7kv00000gn/T/ipykernel_89305/352022253.py:9: RuntimeWarning: overflow encountered in exp\n",
      "  return 1/(1+np.exp(-x))\n",
      "/var/folders/1l/ry3dd_s55j13rdvlhgfn7kv00000gn/T/ipykernel_89305/352022253.py:9: RuntimeWarning: overflow encountered in exp\n",
      "  return 1/(1+np.exp(-x))\n",
      "/var/folders/1l/ry3dd_s55j13rdvlhgfn7kv00000gn/T/ipykernel_89305/352022253.py:9: RuntimeWarning: overflow encountered in exp\n",
      "  return 1/(1+np.exp(-x))\n",
      "/var/folders/1l/ry3dd_s55j13rdvlhgfn7kv00000gn/T/ipykernel_89305/352022253.py:9: RuntimeWarning: overflow encountered in exp\n",
      "  return 1/(1+np.exp(-x))\n",
      "/var/folders/1l/ry3dd_s55j13rdvlhgfn7kv00000gn/T/ipykernel_89305/352022253.py:9: RuntimeWarning: overflow encountered in exp\n",
      "  return 1/(1+np.exp(-x))\n",
      "/var/folders/1l/ry3dd_s55j13rdvlhgfn7kv00000gn/T/ipykernel_89305/352022253.py:9: RuntimeWarning: overflow encountered in exp\n",
      "  return 1/(1+np.exp(-x))\n",
      "/var/folders/1l/ry3dd_s55j13rdvlhgfn7kv00000gn/T/ipykernel_89305/352022253.py:9: RuntimeWarning: overflow encountered in exp\n",
      "  return 1/(1+np.exp(-x))\n",
      "/var/folders/1l/ry3dd_s55j13rdvlhgfn7kv00000gn/T/ipykernel_89305/352022253.py:9: RuntimeWarning: overflow encountered in exp\n",
      "  return 1/(1+np.exp(-x))\n",
      "/var/folders/1l/ry3dd_s55j13rdvlhgfn7kv00000gn/T/ipykernel_89305/352022253.py:9: RuntimeWarning: overflow encountered in exp\n",
      "  return 1/(1+np.exp(-x))\n",
      "/var/folders/1l/ry3dd_s55j13rdvlhgfn7kv00000gn/T/ipykernel_89305/352022253.py:9: RuntimeWarning: overflow encountered in exp\n",
      "  return 1/(1+np.exp(-x))\n",
      "/var/folders/1l/ry3dd_s55j13rdvlhgfn7kv00000gn/T/ipykernel_89305/352022253.py:9: RuntimeWarning: overflow encountered in exp\n",
      "  return 1/(1+np.exp(-x))\n",
      "/var/folders/1l/ry3dd_s55j13rdvlhgfn7kv00000gn/T/ipykernel_89305/352022253.py:9: RuntimeWarning: overflow encountered in exp\n",
      "  return 1/(1+np.exp(-x))\n",
      "/var/folders/1l/ry3dd_s55j13rdvlhgfn7kv00000gn/T/ipykernel_89305/352022253.py:9: RuntimeWarning: overflow encountered in exp\n",
      "  return 1/(1+np.exp(-x))\n",
      "/var/folders/1l/ry3dd_s55j13rdvlhgfn7kv00000gn/T/ipykernel_89305/352022253.py:9: RuntimeWarning: overflow encountered in exp\n",
      "  return 1/(1+np.exp(-x))\n",
      "/var/folders/1l/ry3dd_s55j13rdvlhgfn7kv00000gn/T/ipykernel_89305/352022253.py:9: RuntimeWarning: overflow encountered in exp\n",
      "  return 1/(1+np.exp(-x))\n",
      "/var/folders/1l/ry3dd_s55j13rdvlhgfn7kv00000gn/T/ipykernel_89305/352022253.py:9: RuntimeWarning: overflow encountered in exp\n",
      "  return 1/(1+np.exp(-x))\n",
      "/var/folders/1l/ry3dd_s55j13rdvlhgfn7kv00000gn/T/ipykernel_89305/352022253.py:9: RuntimeWarning: overflow encountered in exp\n",
      "  return 1/(1+np.exp(-x))\n",
      "/var/folders/1l/ry3dd_s55j13rdvlhgfn7kv00000gn/T/ipykernel_89305/352022253.py:9: RuntimeWarning: overflow encountered in exp\n",
      "  return 1/(1+np.exp(-x))\n",
      "/var/folders/1l/ry3dd_s55j13rdvlhgfn7kv00000gn/T/ipykernel_89305/352022253.py:9: RuntimeWarning: overflow encountered in exp\n",
      "  return 1/(1+np.exp(-x))\n",
      "/var/folders/1l/ry3dd_s55j13rdvlhgfn7kv00000gn/T/ipykernel_89305/352022253.py:9: RuntimeWarning: overflow encountered in exp\n",
      "  return 1/(1+np.exp(-x))\n",
      "/var/folders/1l/ry3dd_s55j13rdvlhgfn7kv00000gn/T/ipykernel_89305/352022253.py:9: RuntimeWarning: overflow encountered in exp\n",
      "  return 1/(1+np.exp(-x))\n",
      "/var/folders/1l/ry3dd_s55j13rdvlhgfn7kv00000gn/T/ipykernel_89305/352022253.py:9: RuntimeWarning: overflow encountered in exp\n",
      "  return 1/(1+np.exp(-x))\n",
      "/var/folders/1l/ry3dd_s55j13rdvlhgfn7kv00000gn/T/ipykernel_89305/352022253.py:9: RuntimeWarning: overflow encountered in exp\n",
      "  return 1/(1+np.exp(-x))\n",
      "/var/folders/1l/ry3dd_s55j13rdvlhgfn7kv00000gn/T/ipykernel_89305/352022253.py:9: RuntimeWarning: overflow encountered in exp\n",
      "  return 1/(1+np.exp(-x))\n",
      "/var/folders/1l/ry3dd_s55j13rdvlhgfn7kv00000gn/T/ipykernel_89305/352022253.py:9: RuntimeWarning: overflow encountered in exp\n",
      "  return 1/(1+np.exp(-x))\n",
      "/var/folders/1l/ry3dd_s55j13rdvlhgfn7kv00000gn/T/ipykernel_89305/352022253.py:9: RuntimeWarning: overflow encountered in exp\n",
      "  return 1/(1+np.exp(-x))\n",
      "/var/folders/1l/ry3dd_s55j13rdvlhgfn7kv00000gn/T/ipykernel_89305/352022253.py:9: RuntimeWarning: overflow encountered in exp\n",
      "  return 1/(1+np.exp(-x))\n",
      "/var/folders/1l/ry3dd_s55j13rdvlhgfn7kv00000gn/T/ipykernel_89305/352022253.py:9: RuntimeWarning: overflow encountered in exp\n",
      "  return 1/(1+np.exp(-x))\n",
      "/var/folders/1l/ry3dd_s55j13rdvlhgfn7kv00000gn/T/ipykernel_89305/352022253.py:9: RuntimeWarning: overflow encountered in exp\n",
      "  return 1/(1+np.exp(-x))\n",
      "/var/folders/1l/ry3dd_s55j13rdvlhgfn7kv00000gn/T/ipykernel_89305/352022253.py:9: RuntimeWarning: overflow encountered in exp\n",
      "  return 1/(1+np.exp(-x))\n",
      "/var/folders/1l/ry3dd_s55j13rdvlhgfn7kv00000gn/T/ipykernel_89305/352022253.py:9: RuntimeWarning: overflow encountered in exp\n",
      "  return 1/(1+np.exp(-x))\n",
      "/var/folders/1l/ry3dd_s55j13rdvlhgfn7kv00000gn/T/ipykernel_89305/352022253.py:9: RuntimeWarning: overflow encountered in exp\n",
      "  return 1/(1+np.exp(-x))\n",
      "/var/folders/1l/ry3dd_s55j13rdvlhgfn7kv00000gn/T/ipykernel_89305/352022253.py:9: RuntimeWarning: overflow encountered in exp\n",
      "  return 1/(1+np.exp(-x))\n",
      "/var/folders/1l/ry3dd_s55j13rdvlhgfn7kv00000gn/T/ipykernel_89305/352022253.py:9: RuntimeWarning: overflow encountered in exp\n",
      "  return 1/(1+np.exp(-x))\n",
      "/var/folders/1l/ry3dd_s55j13rdvlhgfn7kv00000gn/T/ipykernel_89305/352022253.py:9: RuntimeWarning: overflow encountered in exp\n",
      "  return 1/(1+np.exp(-x))\n",
      "/var/folders/1l/ry3dd_s55j13rdvlhgfn7kv00000gn/T/ipykernel_89305/352022253.py:9: RuntimeWarning: overflow encountered in exp\n",
      "  return 1/(1+np.exp(-x))\n",
      "/var/folders/1l/ry3dd_s55j13rdvlhgfn7kv00000gn/T/ipykernel_89305/352022253.py:9: RuntimeWarning: overflow encountered in exp\n",
      "  return 1/(1+np.exp(-x))\n",
      "/var/folders/1l/ry3dd_s55j13rdvlhgfn7kv00000gn/T/ipykernel_89305/352022253.py:9: RuntimeWarning: overflow encountered in exp\n",
      "  return 1/(1+np.exp(-x))\n",
      "/var/folders/1l/ry3dd_s55j13rdvlhgfn7kv00000gn/T/ipykernel_89305/352022253.py:9: RuntimeWarning: overflow encountered in exp\n",
      "  return 1/(1+np.exp(-x))\n"
     ]
    },
    {
     "name": "stderr",
     "output_type": "stream",
     "text": [
      "/var/folders/1l/ry3dd_s55j13rdvlhgfn7kv00000gn/T/ipykernel_89305/352022253.py:9: RuntimeWarning: overflow encountered in exp\n",
      "  return 1/(1+np.exp(-x))\n",
      "/var/folders/1l/ry3dd_s55j13rdvlhgfn7kv00000gn/T/ipykernel_89305/352022253.py:9: RuntimeWarning: overflow encountered in exp\n",
      "  return 1/(1+np.exp(-x))\n",
      "/var/folders/1l/ry3dd_s55j13rdvlhgfn7kv00000gn/T/ipykernel_89305/352022253.py:9: RuntimeWarning: overflow encountered in exp\n",
      "  return 1/(1+np.exp(-x))\n",
      "/var/folders/1l/ry3dd_s55j13rdvlhgfn7kv00000gn/T/ipykernel_89305/352022253.py:9: RuntimeWarning: overflow encountered in exp\n",
      "  return 1/(1+np.exp(-x))\n",
      "/var/folders/1l/ry3dd_s55j13rdvlhgfn7kv00000gn/T/ipykernel_89305/352022253.py:9: RuntimeWarning: overflow encountered in exp\n",
      "  return 1/(1+np.exp(-x))\n",
      "/var/folders/1l/ry3dd_s55j13rdvlhgfn7kv00000gn/T/ipykernel_89305/352022253.py:9: RuntimeWarning: overflow encountered in exp\n",
      "  return 1/(1+np.exp(-x))\n",
      "/var/folders/1l/ry3dd_s55j13rdvlhgfn7kv00000gn/T/ipykernel_89305/352022253.py:9: RuntimeWarning: overflow encountered in exp\n",
      "  return 1/(1+np.exp(-x))\n",
      "/var/folders/1l/ry3dd_s55j13rdvlhgfn7kv00000gn/T/ipykernel_89305/352022253.py:9: RuntimeWarning: overflow encountered in exp\n",
      "  return 1/(1+np.exp(-x))\n",
      "/var/folders/1l/ry3dd_s55j13rdvlhgfn7kv00000gn/T/ipykernel_89305/352022253.py:9: RuntimeWarning: overflow encountered in exp\n",
      "  return 1/(1+np.exp(-x))\n",
      "/var/folders/1l/ry3dd_s55j13rdvlhgfn7kv00000gn/T/ipykernel_89305/352022253.py:9: RuntimeWarning: overflow encountered in exp\n",
      "  return 1/(1+np.exp(-x))\n",
      "/var/folders/1l/ry3dd_s55j13rdvlhgfn7kv00000gn/T/ipykernel_89305/352022253.py:9: RuntimeWarning: overflow encountered in exp\n",
      "  return 1/(1+np.exp(-x))\n",
      "/var/folders/1l/ry3dd_s55j13rdvlhgfn7kv00000gn/T/ipykernel_89305/352022253.py:9: RuntimeWarning: overflow encountered in exp\n",
      "  return 1/(1+np.exp(-x))\n",
      "/var/folders/1l/ry3dd_s55j13rdvlhgfn7kv00000gn/T/ipykernel_89305/352022253.py:9: RuntimeWarning: overflow encountered in exp\n",
      "  return 1/(1+np.exp(-x))\n",
      "/var/folders/1l/ry3dd_s55j13rdvlhgfn7kv00000gn/T/ipykernel_89305/352022253.py:9: RuntimeWarning: overflow encountered in exp\n",
      "  return 1/(1+np.exp(-x))\n",
      "/var/folders/1l/ry3dd_s55j13rdvlhgfn7kv00000gn/T/ipykernel_89305/352022253.py:9: RuntimeWarning: overflow encountered in exp\n",
      "  return 1/(1+np.exp(-x))\n",
      "/var/folders/1l/ry3dd_s55j13rdvlhgfn7kv00000gn/T/ipykernel_89305/352022253.py:9: RuntimeWarning: overflow encountered in exp\n",
      "  return 1/(1+np.exp(-x))\n",
      "/var/folders/1l/ry3dd_s55j13rdvlhgfn7kv00000gn/T/ipykernel_89305/352022253.py:9: RuntimeWarning: overflow encountered in exp\n",
      "  return 1/(1+np.exp(-x))\n",
      "/var/folders/1l/ry3dd_s55j13rdvlhgfn7kv00000gn/T/ipykernel_89305/352022253.py:9: RuntimeWarning: overflow encountered in exp\n",
      "  return 1/(1+np.exp(-x))\n",
      "/var/folders/1l/ry3dd_s55j13rdvlhgfn7kv00000gn/T/ipykernel_89305/352022253.py:9: RuntimeWarning: overflow encountered in exp\n",
      "  return 1/(1+np.exp(-x))\n",
      "/var/folders/1l/ry3dd_s55j13rdvlhgfn7kv00000gn/T/ipykernel_89305/352022253.py:9: RuntimeWarning: overflow encountered in exp\n",
      "  return 1/(1+np.exp(-x))\n",
      "/var/folders/1l/ry3dd_s55j13rdvlhgfn7kv00000gn/T/ipykernel_89305/352022253.py:9: RuntimeWarning: overflow encountered in exp\n",
      "  return 1/(1+np.exp(-x))\n",
      "/var/folders/1l/ry3dd_s55j13rdvlhgfn7kv00000gn/T/ipykernel_89305/352022253.py:9: RuntimeWarning: overflow encountered in exp\n",
      "  return 1/(1+np.exp(-x))\n",
      "/var/folders/1l/ry3dd_s55j13rdvlhgfn7kv00000gn/T/ipykernel_89305/352022253.py:9: RuntimeWarning: overflow encountered in exp\n",
      "  return 1/(1+np.exp(-x))\n",
      "/var/folders/1l/ry3dd_s55j13rdvlhgfn7kv00000gn/T/ipykernel_89305/352022253.py:9: RuntimeWarning: overflow encountered in exp\n",
      "  return 1/(1+np.exp(-x))\n",
      "/var/folders/1l/ry3dd_s55j13rdvlhgfn7kv00000gn/T/ipykernel_89305/352022253.py:9: RuntimeWarning: overflow encountered in exp\n",
      "  return 1/(1+np.exp(-x))\n",
      "/var/folders/1l/ry3dd_s55j13rdvlhgfn7kv00000gn/T/ipykernel_89305/352022253.py:9: RuntimeWarning: overflow encountered in exp\n",
      "  return 1/(1+np.exp(-x))\n",
      "/var/folders/1l/ry3dd_s55j13rdvlhgfn7kv00000gn/T/ipykernel_89305/352022253.py:9: RuntimeWarning: overflow encountered in exp\n",
      "  return 1/(1+np.exp(-x))\n",
      "/var/folders/1l/ry3dd_s55j13rdvlhgfn7kv00000gn/T/ipykernel_89305/352022253.py:9: RuntimeWarning: overflow encountered in exp\n",
      "  return 1/(1+np.exp(-x))\n",
      "/var/folders/1l/ry3dd_s55j13rdvlhgfn7kv00000gn/T/ipykernel_89305/352022253.py:9: RuntimeWarning: overflow encountered in exp\n",
      "  return 1/(1+np.exp(-x))\n",
      "/var/folders/1l/ry3dd_s55j13rdvlhgfn7kv00000gn/T/ipykernel_89305/352022253.py:9: RuntimeWarning: overflow encountered in exp\n",
      "  return 1/(1+np.exp(-x))\n",
      "/var/folders/1l/ry3dd_s55j13rdvlhgfn7kv00000gn/T/ipykernel_89305/352022253.py:9: RuntimeWarning: overflow encountered in exp\n",
      "  return 1/(1+np.exp(-x))\n",
      "/var/folders/1l/ry3dd_s55j13rdvlhgfn7kv00000gn/T/ipykernel_89305/352022253.py:9: RuntimeWarning: overflow encountered in exp\n",
      "  return 1/(1+np.exp(-x))\n",
      "/var/folders/1l/ry3dd_s55j13rdvlhgfn7kv00000gn/T/ipykernel_89305/352022253.py:9: RuntimeWarning: overflow encountered in exp\n",
      "  return 1/(1+np.exp(-x))\n",
      "/var/folders/1l/ry3dd_s55j13rdvlhgfn7kv00000gn/T/ipykernel_89305/352022253.py:9: RuntimeWarning: overflow encountered in exp\n",
      "  return 1/(1+np.exp(-x))\n",
      "/var/folders/1l/ry3dd_s55j13rdvlhgfn7kv00000gn/T/ipykernel_89305/352022253.py:9: RuntimeWarning: overflow encountered in exp\n",
      "  return 1/(1+np.exp(-x))\n",
      "/var/folders/1l/ry3dd_s55j13rdvlhgfn7kv00000gn/T/ipykernel_89305/352022253.py:9: RuntimeWarning: overflow encountered in exp\n",
      "  return 1/(1+np.exp(-x))\n",
      "/var/folders/1l/ry3dd_s55j13rdvlhgfn7kv00000gn/T/ipykernel_89305/352022253.py:9: RuntimeWarning: overflow encountered in exp\n",
      "  return 1/(1+np.exp(-x))\n",
      "/var/folders/1l/ry3dd_s55j13rdvlhgfn7kv00000gn/T/ipykernel_89305/352022253.py:9: RuntimeWarning: overflow encountered in exp\n",
      "  return 1/(1+np.exp(-x))\n",
      "/var/folders/1l/ry3dd_s55j13rdvlhgfn7kv00000gn/T/ipykernel_89305/352022253.py:9: RuntimeWarning: overflow encountered in exp\n",
      "  return 1/(1+np.exp(-x))\n",
      "/var/folders/1l/ry3dd_s55j13rdvlhgfn7kv00000gn/T/ipykernel_89305/352022253.py:9: RuntimeWarning: overflow encountered in exp\n",
      "  return 1/(1+np.exp(-x))\n",
      "/var/folders/1l/ry3dd_s55j13rdvlhgfn7kv00000gn/T/ipykernel_89305/352022253.py:9: RuntimeWarning: overflow encountered in exp\n",
      "  return 1/(1+np.exp(-x))\n",
      "/var/folders/1l/ry3dd_s55j13rdvlhgfn7kv00000gn/T/ipykernel_89305/352022253.py:9: RuntimeWarning: overflow encountered in exp\n",
      "  return 1/(1+np.exp(-x))\n",
      "/var/folders/1l/ry3dd_s55j13rdvlhgfn7kv00000gn/T/ipykernel_89305/352022253.py:9: RuntimeWarning: overflow encountered in exp\n",
      "  return 1/(1+np.exp(-x))\n",
      "/var/folders/1l/ry3dd_s55j13rdvlhgfn7kv00000gn/T/ipykernel_89305/352022253.py:9: RuntimeWarning: overflow encountered in exp\n",
      "  return 1/(1+np.exp(-x))\n",
      "/var/folders/1l/ry3dd_s55j13rdvlhgfn7kv00000gn/T/ipykernel_89305/352022253.py:9: RuntimeWarning: overflow encountered in exp\n",
      "  return 1/(1+np.exp(-x))\n",
      "/var/folders/1l/ry3dd_s55j13rdvlhgfn7kv00000gn/T/ipykernel_89305/352022253.py:9: RuntimeWarning: overflow encountered in exp\n",
      "  return 1/(1+np.exp(-x))\n",
      "/var/folders/1l/ry3dd_s55j13rdvlhgfn7kv00000gn/T/ipykernel_89305/352022253.py:9: RuntimeWarning: overflow encountered in exp\n",
      "  return 1/(1+np.exp(-x))\n",
      "/var/folders/1l/ry3dd_s55j13rdvlhgfn7kv00000gn/T/ipykernel_89305/352022253.py:9: RuntimeWarning: overflow encountered in exp\n",
      "  return 1/(1+np.exp(-x))\n",
      "/var/folders/1l/ry3dd_s55j13rdvlhgfn7kv00000gn/T/ipykernel_89305/352022253.py:9: RuntimeWarning: overflow encountered in exp\n",
      "  return 1/(1+np.exp(-x))\n",
      "/var/folders/1l/ry3dd_s55j13rdvlhgfn7kv00000gn/T/ipykernel_89305/352022253.py:9: RuntimeWarning: overflow encountered in exp\n",
      "  return 1/(1+np.exp(-x))\n",
      "/var/folders/1l/ry3dd_s55j13rdvlhgfn7kv00000gn/T/ipykernel_89305/352022253.py:9: RuntimeWarning: overflow encountered in exp\n",
      "  return 1/(1+np.exp(-x))\n",
      "/var/folders/1l/ry3dd_s55j13rdvlhgfn7kv00000gn/T/ipykernel_89305/352022253.py:9: RuntimeWarning: overflow encountered in exp\n",
      "  return 1/(1+np.exp(-x))\n",
      "/var/folders/1l/ry3dd_s55j13rdvlhgfn7kv00000gn/T/ipykernel_89305/352022253.py:9: RuntimeWarning: overflow encountered in exp\n",
      "  return 1/(1+np.exp(-x))\n",
      "/var/folders/1l/ry3dd_s55j13rdvlhgfn7kv00000gn/T/ipykernel_89305/352022253.py:9: RuntimeWarning: overflow encountered in exp\n",
      "  return 1/(1+np.exp(-x))\n",
      "/var/folders/1l/ry3dd_s55j13rdvlhgfn7kv00000gn/T/ipykernel_89305/352022253.py:9: RuntimeWarning: overflow encountered in exp\n",
      "  return 1/(1+np.exp(-x))\n",
      "/var/folders/1l/ry3dd_s55j13rdvlhgfn7kv00000gn/T/ipykernel_89305/352022253.py:9: RuntimeWarning: overflow encountered in exp\n",
      "  return 1/(1+np.exp(-x))\n",
      "/var/folders/1l/ry3dd_s55j13rdvlhgfn7kv00000gn/T/ipykernel_89305/352022253.py:9: RuntimeWarning: overflow encountered in exp\n",
      "  return 1/(1+np.exp(-x))\n",
      "/var/folders/1l/ry3dd_s55j13rdvlhgfn7kv00000gn/T/ipykernel_89305/352022253.py:9: RuntimeWarning: overflow encountered in exp\n",
      "  return 1/(1+np.exp(-x))\n",
      "/var/folders/1l/ry3dd_s55j13rdvlhgfn7kv00000gn/T/ipykernel_89305/352022253.py:9: RuntimeWarning: overflow encountered in exp\n",
      "  return 1/(1+np.exp(-x))\n",
      "/var/folders/1l/ry3dd_s55j13rdvlhgfn7kv00000gn/T/ipykernel_89305/352022253.py:9: RuntimeWarning: overflow encountered in exp\n",
      "  return 1/(1+np.exp(-x))\n",
      "/var/folders/1l/ry3dd_s55j13rdvlhgfn7kv00000gn/T/ipykernel_89305/352022253.py:9: RuntimeWarning: overflow encountered in exp\n",
      "  return 1/(1+np.exp(-x))\n",
      "/var/folders/1l/ry3dd_s55j13rdvlhgfn7kv00000gn/T/ipykernel_89305/352022253.py:9: RuntimeWarning: overflow encountered in exp\n",
      "  return 1/(1+np.exp(-x))\n",
      "/var/folders/1l/ry3dd_s55j13rdvlhgfn7kv00000gn/T/ipykernel_89305/352022253.py:9: RuntimeWarning: overflow encountered in exp\n",
      "  return 1/(1+np.exp(-x))\n",
      "/var/folders/1l/ry3dd_s55j13rdvlhgfn7kv00000gn/T/ipykernel_89305/352022253.py:9: RuntimeWarning: overflow encountered in exp\n",
      "  return 1/(1+np.exp(-x))\n",
      "/var/folders/1l/ry3dd_s55j13rdvlhgfn7kv00000gn/T/ipykernel_89305/352022253.py:9: RuntimeWarning: overflow encountered in exp\n",
      "  return 1/(1+np.exp(-x))\n",
      "/var/folders/1l/ry3dd_s55j13rdvlhgfn7kv00000gn/T/ipykernel_89305/352022253.py:9: RuntimeWarning: overflow encountered in exp\n",
      "  return 1/(1+np.exp(-x))\n",
      "/var/folders/1l/ry3dd_s55j13rdvlhgfn7kv00000gn/T/ipykernel_89305/352022253.py:9: RuntimeWarning: overflow encountered in exp\n",
      "  return 1/(1+np.exp(-x))\n",
      "/var/folders/1l/ry3dd_s55j13rdvlhgfn7kv00000gn/T/ipykernel_89305/352022253.py:9: RuntimeWarning: overflow encountered in exp\n",
      "  return 1/(1+np.exp(-x))\n",
      "/var/folders/1l/ry3dd_s55j13rdvlhgfn7kv00000gn/T/ipykernel_89305/352022253.py:9: RuntimeWarning: overflow encountered in exp\n",
      "  return 1/(1+np.exp(-x))\n",
      "/var/folders/1l/ry3dd_s55j13rdvlhgfn7kv00000gn/T/ipykernel_89305/352022253.py:9: RuntimeWarning: overflow encountered in exp\n",
      "  return 1/(1+np.exp(-x))\n",
      "/var/folders/1l/ry3dd_s55j13rdvlhgfn7kv00000gn/T/ipykernel_89305/352022253.py:9: RuntimeWarning: overflow encountered in exp\n",
      "  return 1/(1+np.exp(-x))\n",
      "/var/folders/1l/ry3dd_s55j13rdvlhgfn7kv00000gn/T/ipykernel_89305/352022253.py:9: RuntimeWarning: overflow encountered in exp\n",
      "  return 1/(1+np.exp(-x))\n",
      "/var/folders/1l/ry3dd_s55j13rdvlhgfn7kv00000gn/T/ipykernel_89305/352022253.py:9: RuntimeWarning: overflow encountered in exp\n",
      "  return 1/(1+np.exp(-x))\n",
      "/var/folders/1l/ry3dd_s55j13rdvlhgfn7kv00000gn/T/ipykernel_89305/352022253.py:9: RuntimeWarning: overflow encountered in exp\n",
      "  return 1/(1+np.exp(-x))\n",
      "/var/folders/1l/ry3dd_s55j13rdvlhgfn7kv00000gn/T/ipykernel_89305/352022253.py:9: RuntimeWarning: overflow encountered in exp\n",
      "  return 1/(1+np.exp(-x))\n",
      "/var/folders/1l/ry3dd_s55j13rdvlhgfn7kv00000gn/T/ipykernel_89305/352022253.py:9: RuntimeWarning: overflow encountered in exp\n",
      "  return 1/(1+np.exp(-x))\n",
      "/var/folders/1l/ry3dd_s55j13rdvlhgfn7kv00000gn/T/ipykernel_89305/352022253.py:9: RuntimeWarning: overflow encountered in exp\n",
      "  return 1/(1+np.exp(-x))\n",
      "/var/folders/1l/ry3dd_s55j13rdvlhgfn7kv00000gn/T/ipykernel_89305/352022253.py:9: RuntimeWarning: overflow encountered in exp\n",
      "  return 1/(1+np.exp(-x))\n",
      "/var/folders/1l/ry3dd_s55j13rdvlhgfn7kv00000gn/T/ipykernel_89305/352022253.py:9: RuntimeWarning: overflow encountered in exp\n",
      "  return 1/(1+np.exp(-x))\n",
      "/var/folders/1l/ry3dd_s55j13rdvlhgfn7kv00000gn/T/ipykernel_89305/352022253.py:9: RuntimeWarning: overflow encountered in exp\n",
      "  return 1/(1+np.exp(-x))\n",
      "/var/folders/1l/ry3dd_s55j13rdvlhgfn7kv00000gn/T/ipykernel_89305/352022253.py:9: RuntimeWarning: overflow encountered in exp\n",
      "  return 1/(1+np.exp(-x))\n",
      "/var/folders/1l/ry3dd_s55j13rdvlhgfn7kv00000gn/T/ipykernel_89305/352022253.py:9: RuntimeWarning: overflow encountered in exp\n",
      "  return 1/(1+np.exp(-x))\n",
      "/var/folders/1l/ry3dd_s55j13rdvlhgfn7kv00000gn/T/ipykernel_89305/352022253.py:9: RuntimeWarning: overflow encountered in exp\n",
      "  return 1/(1+np.exp(-x))\n",
      "/var/folders/1l/ry3dd_s55j13rdvlhgfn7kv00000gn/T/ipykernel_89305/352022253.py:9: RuntimeWarning: overflow encountered in exp\n",
      "  return 1/(1+np.exp(-x))\n"
     ]
    },
    {
     "name": "stderr",
     "output_type": "stream",
     "text": [
      "/var/folders/1l/ry3dd_s55j13rdvlhgfn7kv00000gn/T/ipykernel_89305/352022253.py:9: RuntimeWarning: overflow encountered in exp\n",
      "  return 1/(1+np.exp(-x))\n",
      "/var/folders/1l/ry3dd_s55j13rdvlhgfn7kv00000gn/T/ipykernel_89305/352022253.py:9: RuntimeWarning: overflow encountered in exp\n",
      "  return 1/(1+np.exp(-x))\n",
      "/var/folders/1l/ry3dd_s55j13rdvlhgfn7kv00000gn/T/ipykernel_89305/352022253.py:9: RuntimeWarning: overflow encountered in exp\n",
      "  return 1/(1+np.exp(-x))\n",
      "/var/folders/1l/ry3dd_s55j13rdvlhgfn7kv00000gn/T/ipykernel_89305/352022253.py:9: RuntimeWarning: overflow encountered in exp\n",
      "  return 1/(1+np.exp(-x))\n",
      "/var/folders/1l/ry3dd_s55j13rdvlhgfn7kv00000gn/T/ipykernel_89305/352022253.py:9: RuntimeWarning: overflow encountered in exp\n",
      "  return 1/(1+np.exp(-x))\n",
      "/var/folders/1l/ry3dd_s55j13rdvlhgfn7kv00000gn/T/ipykernel_89305/352022253.py:9: RuntimeWarning: overflow encountered in exp\n",
      "  return 1/(1+np.exp(-x))\n",
      "/var/folders/1l/ry3dd_s55j13rdvlhgfn7kv00000gn/T/ipykernel_89305/352022253.py:9: RuntimeWarning: overflow encountered in exp\n",
      "  return 1/(1+np.exp(-x))\n",
      "/var/folders/1l/ry3dd_s55j13rdvlhgfn7kv00000gn/T/ipykernel_89305/352022253.py:9: RuntimeWarning: overflow encountered in exp\n",
      "  return 1/(1+np.exp(-x))\n",
      "/var/folders/1l/ry3dd_s55j13rdvlhgfn7kv00000gn/T/ipykernel_89305/352022253.py:9: RuntimeWarning: overflow encountered in exp\n",
      "  return 1/(1+np.exp(-x))\n",
      "/var/folders/1l/ry3dd_s55j13rdvlhgfn7kv00000gn/T/ipykernel_89305/352022253.py:9: RuntimeWarning: overflow encountered in exp\n",
      "  return 1/(1+np.exp(-x))\n",
      "/var/folders/1l/ry3dd_s55j13rdvlhgfn7kv00000gn/T/ipykernel_89305/352022253.py:9: RuntimeWarning: overflow encountered in exp\n",
      "  return 1/(1+np.exp(-x))\n",
      "/var/folders/1l/ry3dd_s55j13rdvlhgfn7kv00000gn/T/ipykernel_89305/352022253.py:9: RuntimeWarning: overflow encountered in exp\n",
      "  return 1/(1+np.exp(-x))\n",
      "/var/folders/1l/ry3dd_s55j13rdvlhgfn7kv00000gn/T/ipykernel_89305/352022253.py:9: RuntimeWarning: overflow encountered in exp\n",
      "  return 1/(1+np.exp(-x))\n",
      "/var/folders/1l/ry3dd_s55j13rdvlhgfn7kv00000gn/T/ipykernel_89305/352022253.py:9: RuntimeWarning: overflow encountered in exp\n",
      "  return 1/(1+np.exp(-x))\n",
      "/var/folders/1l/ry3dd_s55j13rdvlhgfn7kv00000gn/T/ipykernel_89305/352022253.py:9: RuntimeWarning: overflow encountered in exp\n",
      "  return 1/(1+np.exp(-x))\n",
      "/var/folders/1l/ry3dd_s55j13rdvlhgfn7kv00000gn/T/ipykernel_89305/352022253.py:9: RuntimeWarning: overflow encountered in exp\n",
      "  return 1/(1+np.exp(-x))\n",
      "/var/folders/1l/ry3dd_s55j13rdvlhgfn7kv00000gn/T/ipykernel_89305/352022253.py:9: RuntimeWarning: overflow encountered in exp\n",
      "  return 1/(1+np.exp(-x))\n",
      "/var/folders/1l/ry3dd_s55j13rdvlhgfn7kv00000gn/T/ipykernel_89305/352022253.py:9: RuntimeWarning: overflow encountered in exp\n",
      "  return 1/(1+np.exp(-x))\n",
      "/var/folders/1l/ry3dd_s55j13rdvlhgfn7kv00000gn/T/ipykernel_89305/352022253.py:9: RuntimeWarning: overflow encountered in exp\n",
      "  return 1/(1+np.exp(-x))\n",
      "/var/folders/1l/ry3dd_s55j13rdvlhgfn7kv00000gn/T/ipykernel_89305/352022253.py:9: RuntimeWarning: overflow encountered in exp\n",
      "  return 1/(1+np.exp(-x))\n",
      "/var/folders/1l/ry3dd_s55j13rdvlhgfn7kv00000gn/T/ipykernel_89305/352022253.py:9: RuntimeWarning: overflow encountered in exp\n",
      "  return 1/(1+np.exp(-x))\n",
      "/var/folders/1l/ry3dd_s55j13rdvlhgfn7kv00000gn/T/ipykernel_89305/352022253.py:9: RuntimeWarning: overflow encountered in exp\n",
      "  return 1/(1+np.exp(-x))\n",
      "/var/folders/1l/ry3dd_s55j13rdvlhgfn7kv00000gn/T/ipykernel_89305/352022253.py:9: RuntimeWarning: overflow encountered in exp\n",
      "  return 1/(1+np.exp(-x))\n",
      "/var/folders/1l/ry3dd_s55j13rdvlhgfn7kv00000gn/T/ipykernel_89305/352022253.py:9: RuntimeWarning: overflow encountered in exp\n",
      "  return 1/(1+np.exp(-x))\n",
      "/var/folders/1l/ry3dd_s55j13rdvlhgfn7kv00000gn/T/ipykernel_89305/352022253.py:9: RuntimeWarning: overflow encountered in exp\n",
      "  return 1/(1+np.exp(-x))\n",
      "/var/folders/1l/ry3dd_s55j13rdvlhgfn7kv00000gn/T/ipykernel_89305/352022253.py:9: RuntimeWarning: overflow encountered in exp\n",
      "  return 1/(1+np.exp(-x))\n",
      "/var/folders/1l/ry3dd_s55j13rdvlhgfn7kv00000gn/T/ipykernel_89305/352022253.py:9: RuntimeWarning: overflow encountered in exp\n",
      "  return 1/(1+np.exp(-x))\n",
      "/var/folders/1l/ry3dd_s55j13rdvlhgfn7kv00000gn/T/ipykernel_89305/352022253.py:9: RuntimeWarning: overflow encountered in exp\n",
      "  return 1/(1+np.exp(-x))\n",
      "/var/folders/1l/ry3dd_s55j13rdvlhgfn7kv00000gn/T/ipykernel_89305/352022253.py:9: RuntimeWarning: overflow encountered in exp\n",
      "  return 1/(1+np.exp(-x))\n",
      "/var/folders/1l/ry3dd_s55j13rdvlhgfn7kv00000gn/T/ipykernel_89305/352022253.py:9: RuntimeWarning: overflow encountered in exp\n",
      "  return 1/(1+np.exp(-x))\n",
      "/var/folders/1l/ry3dd_s55j13rdvlhgfn7kv00000gn/T/ipykernel_89305/352022253.py:9: RuntimeWarning: overflow encountered in exp\n",
      "  return 1/(1+np.exp(-x))\n",
      "/var/folders/1l/ry3dd_s55j13rdvlhgfn7kv00000gn/T/ipykernel_89305/352022253.py:9: RuntimeWarning: overflow encountered in exp\n",
      "  return 1/(1+np.exp(-x))\n",
      "/var/folders/1l/ry3dd_s55j13rdvlhgfn7kv00000gn/T/ipykernel_89305/352022253.py:9: RuntimeWarning: overflow encountered in exp\n",
      "  return 1/(1+np.exp(-x))\n"
     ]
    },
    {
     "data": {
      "text/html": [
       "Waiting for W&B process to finish... <strong style=\"color:green\">(success).</strong>"
      ],
      "text/plain": [
       "<IPython.core.display.HTML object>"
      ]
     },
     "metadata": {},
     "output_type": "display_data"
    },
    {
     "data": {
      "text/html": [
       "<style>\n",
       "    table.wandb td:nth-child(1) { padding: 0 10px; text-align: left ; width: auto;} td:nth-child(2) {text-align: left ; width: 100%}\n",
       "    .wandb-row { display: flex; flex-direction: row; flex-wrap: wrap; justify-content: flex-start; width: 100% }\n",
       "    .wandb-col { display: flex; flex-direction: column; flex-basis: 100%; flex: 1; padding: 10px; }\n",
       "    </style>\n",
       "<div class=\"wandb-row\"><div class=\"wandb-col\"><h3>Run history:</h3><br/><table class=\"wandb\"><tr><td>F1-Score</td><td>▁</td></tr><tr><td>Precision</td><td>▁</td></tr><tr><td>Recall</td><td>▁</td></tr><tr><td>accuracy</td><td>▁▁▄▅▆▅▅▅▅▅▆▅▅▅▅▆▆▆▆▇████████████████████</td></tr><tr><td>log_loss</td><td>██▁▅▃▄▄▄▄▄▄▄▄▄▄▄▃▃▃▂▁▁▁▁▁▁▁▁▁▁▁▁▁▁▁▁▁▁▁▁</td></tr></table><br/></div><div class=\"wandb-col\"><h3>Run summary:</h3><br/><table class=\"wandb\"><tr><td>F1-Score</td><td>0.91852</td></tr><tr><td>Precision</td><td>0.89855</td></tr><tr><td>Recall</td><td>0.93939</td></tr><tr><td>accuracy</td><td>0.91429</td></tr><tr><td>log_loss</td><td>2.4003</td></tr></table><br/></div></div>"
      ],
      "text/plain": [
       "<IPython.core.display.HTML object>"
      ]
     },
     "metadata": {},
     "output_type": "display_data"
    },
    {
     "data": {
      "text/html": [
       " View run <strong style=\"color:#cdcd00\">northern-flower-10</strong> at: <a href='https://wandb.ai/scott-clare/logistic_regression/runs/lnvjtu7w' target=\"_blank\">https://wandb.ai/scott-clare/logistic_regression/runs/lnvjtu7w</a><br/>Synced 6 W&B file(s), 1 media file(s), 1 artifact file(s) and 0 other file(s)"
      ],
      "text/plain": [
       "<IPython.core.display.HTML object>"
      ]
     },
     "metadata": {},
     "output_type": "display_data"
    },
    {
     "data": {
      "text/html": [
       "Find logs at: <code>./wandb/run-20230321_104128-lnvjtu7w/logs</code>"
      ],
      "text/plain": [
       "<IPython.core.display.HTML object>"
      ]
     },
     "metadata": {},
     "output_type": "display_data"
    }
   ],
   "source": [
    "main()"
   ]
  }
 ],
 "metadata": {
  "kernelspec": {
   "display_name": "Python 3 (ipykernel)",
   "language": "python",
   "name": "python3"
  },
  "language_info": {
   "codemirror_mode": {
    "name": "ipython",
    "version": 3
   },
   "file_extension": ".py",
   "mimetype": "text/x-python",
   "name": "python",
   "nbconvert_exporter": "python",
   "pygments_lexer": "ipython3",
   "version": "3.8.16"
  }
 },
 "nbformat": 4,
 "nbformat_minor": 5
}
