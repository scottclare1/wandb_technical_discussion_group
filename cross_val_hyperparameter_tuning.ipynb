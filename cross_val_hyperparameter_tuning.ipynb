{
 "cells": [
  {
   "cell_type": "code",
   "execution_count": 1,
   "id": "5d89633d",
   "metadata": {},
   "outputs": [
    {
     "name": "stdout",
     "output_type": "stream",
     "text": [
      "Requirement already satisfied: wandb in /Users/scottclare/miniconda3/envs/tech_discussion_group/lib/python3.8/site-packages (0.14.0)\n",
      "Requirement already satisfied: setproctitle in /Users/scottclare/miniconda3/envs/tech_discussion_group/lib/python3.8/site-packages (from wandb) (1.3.2)\n",
      "Requirement already satisfied: GitPython!=3.1.29,>=1.0.0 in /Users/scottclare/miniconda3/envs/tech_discussion_group/lib/python3.8/site-packages (from wandb) (3.1.31)\n",
      "Requirement already satisfied: appdirs>=1.4.3 in /Users/scottclare/miniconda3/envs/tech_discussion_group/lib/python3.8/site-packages (from wandb) (1.4.4)\n",
      "Requirement already satisfied: requests<3,>=2.0.0 in /Users/scottclare/miniconda3/envs/tech_discussion_group/lib/python3.8/site-packages (from wandb) (2.28.2)\n",
      "Requirement already satisfied: sentry-sdk>=1.0.0 in /Users/scottclare/miniconda3/envs/tech_discussion_group/lib/python3.8/site-packages (from wandb) (1.16.0)\n",
      "Requirement already satisfied: psutil>=5.0.0 in /Users/scottclare/miniconda3/envs/tech_discussion_group/lib/python3.8/site-packages (from wandb) (5.9.4)\n",
      "Requirement already satisfied: docker-pycreds>=0.4.0 in /Users/scottclare/miniconda3/envs/tech_discussion_group/lib/python3.8/site-packages (from wandb) (0.4.0)\n",
      "Requirement already satisfied: pathtools in /Users/scottclare/miniconda3/envs/tech_discussion_group/lib/python3.8/site-packages (from wandb) (0.1.2)\n",
      "Requirement already satisfied: protobuf!=4.21.0,<5,>=3.19.0 in /Users/scottclare/miniconda3/envs/tech_discussion_group/lib/python3.8/site-packages (from wandb) (3.20.3)\n",
      "Requirement already satisfied: Click!=8.0.0,>=7.0 in /Users/scottclare/miniconda3/envs/tech_discussion_group/lib/python3.8/site-packages (from wandb) (8.1.3)\n",
      "Requirement already satisfied: setuptools in /Users/scottclare/miniconda3/envs/tech_discussion_group/lib/python3.8/site-packages (from wandb) (65.6.3)\n",
      "Requirement already satisfied: typing-extensions in /Users/scottclare/miniconda3/envs/tech_discussion_group/lib/python3.8/site-packages (from wandb) (4.5.0)\n",
      "Requirement already satisfied: PyYAML in /Users/scottclare/miniconda3/envs/tech_discussion_group/lib/python3.8/site-packages (from wandb) (6.0)\n",
      "Requirement already satisfied: six>=1.4.0 in /Users/scottclare/miniconda3/envs/tech_discussion_group/lib/python3.8/site-packages (from docker-pycreds>=0.4.0->wandb) (1.16.0)\n",
      "Requirement already satisfied: gitdb<5,>=4.0.1 in /Users/scottclare/miniconda3/envs/tech_discussion_group/lib/python3.8/site-packages (from GitPython!=3.1.29,>=1.0.0->wandb) (4.0.10)\n",
      "Requirement already satisfied: certifi>=2017.4.17 in /Users/scottclare/miniconda3/envs/tech_discussion_group/lib/python3.8/site-packages (from requests<3,>=2.0.0->wandb) (2022.12.7)\n",
      "Requirement already satisfied: charset-normalizer<4,>=2 in /Users/scottclare/miniconda3/envs/tech_discussion_group/lib/python3.8/site-packages (from requests<3,>=2.0.0->wandb) (3.1.0)\n",
      "Requirement already satisfied: idna<4,>=2.5 in /Users/scottclare/miniconda3/envs/tech_discussion_group/lib/python3.8/site-packages (from requests<3,>=2.0.0->wandb) (3.4)\n",
      "Requirement already satisfied: urllib3<1.27,>=1.21.1 in /Users/scottclare/miniconda3/envs/tech_discussion_group/lib/python3.8/site-packages (from requests<3,>=2.0.0->wandb) (1.26.15)\n",
      "Requirement already satisfied: smmap<6,>=3.0.1 in /Users/scottclare/miniconda3/envs/tech_discussion_group/lib/python3.8/site-packages (from gitdb<5,>=4.0.1->GitPython!=3.1.29,>=1.0.0->wandb) (5.0.0)\n",
      "Requirement already satisfied: scikit-learn in /Users/scottclare/miniconda3/envs/tech_discussion_group/lib/python3.8/site-packages (1.2.2)\n",
      "Requirement already satisfied: joblib>=1.1.1 in /Users/scottclare/miniconda3/envs/tech_discussion_group/lib/python3.8/site-packages (from scikit-learn) (1.2.0)\n",
      "Requirement already satisfied: threadpoolctl>=2.0.0 in /Users/scottclare/miniconda3/envs/tech_discussion_group/lib/python3.8/site-packages (from scikit-learn) (3.1.0)\n",
      "Requirement already satisfied: numpy>=1.17.3 in /Users/scottclare/miniconda3/envs/tech_discussion_group/lib/python3.8/site-packages (from scikit-learn) (1.24.2)\n",
      "Requirement already satisfied: scipy>=1.3.2 in /Users/scottclare/miniconda3/envs/tech_discussion_group/lib/python3.8/site-packages (from scikit-learn) (1.10.1)\n",
      "Requirement already satisfied: pandas in /Users/scottclare/miniconda3/envs/tech_discussion_group/lib/python3.8/site-packages (1.5.3)\n",
      "Requirement already satisfied: pytz>=2020.1 in /Users/scottclare/miniconda3/envs/tech_discussion_group/lib/python3.8/site-packages (from pandas) (2022.7.1)\n",
      "Requirement already satisfied: numpy>=1.20.3 in /Users/scottclare/miniconda3/envs/tech_discussion_group/lib/python3.8/site-packages (from pandas) (1.24.2)\n",
      "Requirement already satisfied: python-dateutil>=2.8.1 in /Users/scottclare/miniconda3/envs/tech_discussion_group/lib/python3.8/site-packages (from pandas) (2.8.2)\n",
      "Requirement already satisfied: six>=1.5 in /Users/scottclare/miniconda3/envs/tech_discussion_group/lib/python3.8/site-packages (from python-dateutil>=2.8.1->pandas) (1.16.0)\n",
      "Requirement already satisfied: numpy in /Users/scottclare/miniconda3/envs/tech_discussion_group/lib/python3.8/site-packages (1.24.2)\n"
     ]
    }
   ],
   "source": [
    "!pip install wandb\n",
    "!pip install scikit-learn\n",
    "!pip install pandas\n",
    "!pip install numpy"
   ]
  },
  {
   "cell_type": "code",
   "execution_count": 2,
   "id": "129e3863",
   "metadata": {},
   "outputs": [],
   "source": [
    "from sklearn.ensemble import RandomForestClassifier\n",
    "from sklearn.datasets import load_breast_cancer\n",
    "from sklearn.model_selection import KFold, train_test_split\n",
    "import wandb\n",
    "import pandas as pd\n",
    "from sklearn.metrics import f1_score, precision_score, recall_score\n",
    "import numpy as np"
   ]
  },
  {
   "cell_type": "markdown",
   "id": "380c2210",
   "metadata": {},
   "source": [
    "# Loading in data"
   ]
  },
  {
   "cell_type": "code",
   "execution_count": 3,
   "id": "9bb15223",
   "metadata": {},
   "outputs": [],
   "source": [
    "data = load_breast_cancer()"
   ]
  },
  {
   "cell_type": "code",
   "execution_count": 4,
   "id": "9e0e1444",
   "metadata": {},
   "outputs": [
    {
     "name": "stdout",
     "output_type": "stream",
     "text": [
      "['mean radius' 'mean texture' 'mean perimeter' 'mean area'\n",
      " 'mean smoothness' 'mean compactness' 'mean concavity'\n",
      " 'mean concave points' 'mean symmetry' 'mean fractal dimension'\n",
      " 'radius error' 'texture error' 'perimeter error' 'area error'\n",
      " 'smoothness error' 'compactness error' 'concavity error'\n",
      " 'concave points error' 'symmetry error' 'fractal dimension error'\n",
      " 'worst radius' 'worst texture' 'worst perimeter' 'worst area'\n",
      " 'worst smoothness' 'worst compactness' 'worst concavity'\n",
      " 'worst concave points' 'worst symmetry' 'worst fractal dimension']\n"
     ]
    }
   ],
   "source": [
    "print(data.feature_names)"
   ]
  },
  {
   "cell_type": "code",
   "execution_count": 5,
   "id": "9c6c0da8",
   "metadata": {},
   "outputs": [
    {
     "name": "stdout",
     "output_type": "stream",
     "text": [
      "['malignant' 'benign']\n"
     ]
    }
   ],
   "source": [
    "print(data.target_names)"
   ]
  },
  {
   "cell_type": "code",
   "execution_count": 6,
   "id": "436946c7",
   "metadata": {},
   "outputs": [],
   "source": [
    "X = pd.DataFrame(data.data, columns=data.feature_names)\n",
    "y = data.target"
   ]
  },
  {
   "cell_type": "code",
   "execution_count": 14,
   "id": "6ad63e00",
   "metadata": {},
   "outputs": [],
   "source": [
    "X_train, X_test, y_train, y_test = train_test_split(np.array(X), np.array(y), test_size=0.2)"
   ]
  },
  {
   "cell_type": "markdown",
   "id": "eac5a509",
   "metadata": {},
   "source": [
    "# Setup Code"
   ]
  },
  {
   "cell_type": "code",
   "execution_count": 15,
   "id": "be0e57e5",
   "metadata": {},
   "outputs": [],
   "source": [
    "sweep_config = {\n",
    "    \"method\": \"bayes\",\n",
    "    \"metric\": {\"goal\": \"maximize\", \"name\": \"F1-Score\"},\n",
    "    \"parameters\": {\n",
    "        \"criterion\": {\"values\": [\"gini\", \"entropy\", \"log_loss\"]},\n",
    "        \"max_depth\": {\"min\": 5, \"max\": 10},\n",
    "        \"n_estimators\": {\"min\": 100, \"max\": 500}\n",
    "    }\n",
    "}"
   ]
  },
  {
   "cell_type": "code",
   "execution_count": 16,
   "id": "5efca4d4",
   "metadata": {},
   "outputs": [],
   "source": [
    "def objective():\n",
    "#     Call wandb.init() to start server\n",
    "    with wandb.init(project=\"rf_hyperparam_tuning_tech_discussion_group_bayes_cross_val\", config=sweep_config) as run:\n",
    "        \n",
    "        cv = KFold(n_splits=3, shuffle=True, random_state=42)\n",
    "        \n",
    "        f1_evals, recall_evals, precision_evals = [], [], []\n",
    "        \n",
    "        for train_index, val_index in cv.split(X_train):\n",
    "            \n",
    "            X_train_cv, X_val = X_train[train_index], X_train[val_index]\n",
    "            y_train_cv, y_val = y_train[train_index], y_train[val_index]\n",
    "        \n",
    "        #     Instantiate model\n",
    "            model = RandomForestClassifier(\n",
    "                random_state=42, \n",
    "                n_estimators=wandb.config.n_estimators,\n",
    "                criterion=wandb.config.criterion,\n",
    "                max_depth=wandb.config.max_depth\n",
    "            )\n",
    "        #     Fit model with training data\n",
    "            model.fit(X_train_cv, y_train_cv)\n",
    "        #     Make predictions\n",
    "            eval_pred = model.predict(X_val)\n",
    "\n",
    "        #     Compute performance\n",
    "            f1 = f1_score(y_val, eval_pred)\n",
    "            precision = precision_score(y_val, eval_pred)\n",
    "            recall = recall_score(y_val, eval_pred)\n",
    "            \n",
    "            f1_evals.append(f1)\n",
    "            recall_evals.append(recall)\n",
    "            precision_evals.append(precision)\n",
    "            \n",
    "        #     Log results\n",
    "            wandb.log(\n",
    "                {\n",
    "                    \"F1-Score\": np.mean(f1_evals),\n",
    "                    \"Precision\": np.mean(precision_evals),\n",
    "                    \"Recall\": np.mean(recall_evals)\n",
    "                }\n",
    "            )"
   ]
  },
  {
   "cell_type": "markdown",
   "id": "6ab2e40c",
   "metadata": {},
   "source": [
    "# Run Sweeps"
   ]
  },
  {
   "cell_type": "code",
   "execution_count": 18,
   "id": "656c7fce",
   "metadata": {},
   "outputs": [
    {
     "name": "stdout",
     "output_type": "stream",
     "text": [
      "Create sweep with ID: g04t3vhm\n",
      "Sweep URL: https://wandb.ai/scott-clare/rf_hyperparam_tuning_tech_discussion_group_bayes_cross_val/sweeps/g04t3vhm\n"
     ]
    },
    {
     "name": "stderr",
     "output_type": "stream",
     "text": [
      "\u001b[34m\u001b[1mwandb\u001b[0m: Agent Starting Run: kf6cvaml with config:\n",
      "\u001b[34m\u001b[1mwandb\u001b[0m: \tcriterion: log_loss\n",
      "\u001b[34m\u001b[1mwandb\u001b[0m: \tmax_depth: 8\n",
      "\u001b[34m\u001b[1mwandb\u001b[0m: \tn_estimators: 116\n",
      "\u001b[34m\u001b[1mwandb\u001b[0m: \u001b[33mWARNING\u001b[0m Ignored wandb.init() arg project when running a sweep.\n"
     ]
    },
    {
     "data": {
      "text/html": [
       "Tracking run with wandb version 0.14.0"
      ],
      "text/plain": [
       "<IPython.core.display.HTML object>"
      ]
     },
     "metadata": {},
     "output_type": "display_data"
    },
    {
     "data": {
      "text/html": [
       "Run data is saved locally in <code>/Users/scottclare/repos/local/wandb_technical_discussion_group/wandb/run-20230322_103155-kf6cvaml</code>"
      ],
      "text/plain": [
       "<IPython.core.display.HTML object>"
      ]
     },
     "metadata": {},
     "output_type": "display_data"
    },
    {
     "data": {
      "text/html": [
       "Syncing run <strong><a href='https://wandb.ai/scott-clare/rf_hyperparam_tuning_tech_discussion_group_bayes_cross_val/runs/kf6cvaml' target=\"_blank\">jumping-sweep-1</a></strong> to <a href='https://wandb.ai/scott-clare/rf_hyperparam_tuning_tech_discussion_group_bayes_cross_val' target=\"_blank\">Weights & Biases</a> (<a href='https://wandb.me/run' target=\"_blank\">docs</a>)<br/>Sweep page: <a href='https://wandb.ai/scott-clare/rf_hyperparam_tuning_tech_discussion_group_bayes_cross_val/sweeps/g04t3vhm' target=\"_blank\">https://wandb.ai/scott-clare/rf_hyperparam_tuning_tech_discussion_group_bayes_cross_val/sweeps/g04t3vhm</a>"
      ],
      "text/plain": [
       "<IPython.core.display.HTML object>"
      ]
     },
     "metadata": {},
     "output_type": "display_data"
    },
    {
     "data": {
      "text/html": [
       " View project at <a href='https://wandb.ai/scott-clare/rf_hyperparam_tuning_tech_discussion_group_bayes_cross_val' target=\"_blank\">https://wandb.ai/scott-clare/rf_hyperparam_tuning_tech_discussion_group_bayes_cross_val</a>"
      ],
      "text/plain": [
       "<IPython.core.display.HTML object>"
      ]
     },
     "metadata": {},
     "output_type": "display_data"
    },
    {
     "data": {
      "text/html": [
       " View sweep at <a href='https://wandb.ai/scott-clare/rf_hyperparam_tuning_tech_discussion_group_bayes_cross_val/sweeps/g04t3vhm' target=\"_blank\">https://wandb.ai/scott-clare/rf_hyperparam_tuning_tech_discussion_group_bayes_cross_val/sweeps/g04t3vhm</a>"
      ],
      "text/plain": [
       "<IPython.core.display.HTML object>"
      ]
     },
     "metadata": {},
     "output_type": "display_data"
    },
    {
     "data": {
      "text/html": [
       " View run at <a href='https://wandb.ai/scott-clare/rf_hyperparam_tuning_tech_discussion_group_bayes_cross_val/runs/kf6cvaml' target=\"_blank\">https://wandb.ai/scott-clare/rf_hyperparam_tuning_tech_discussion_group_bayes_cross_val/runs/kf6cvaml</a>"
      ],
      "text/plain": [
       "<IPython.core.display.HTML object>"
      ]
     },
     "metadata": {},
     "output_type": "display_data"
    },
    {
     "data": {
      "text/html": [
       "Waiting for W&B process to finish... <strong style=\"color:green\">(success).</strong>"
      ],
      "text/plain": [
       "<IPython.core.display.HTML object>"
      ]
     },
     "metadata": {},
     "output_type": "display_data"
    },
    {
     "data": {
      "application/vnd.jupyter.widget-view+json": {
       "model_id": "e8fbdbf349be4443b92aa18384e3b0b3",
       "version_major": 2,
       "version_minor": 0
      },
      "text/plain": [
       "VBox(children=(Label(value='0.001 MB of 0.009 MB uploaded (0.000 MB deduped)\\r'), FloatProgress(value=0.103357…"
      ]
     },
     "metadata": {},
     "output_type": "display_data"
    },
    {
     "data": {
      "text/html": [
       "<style>\n",
       "    table.wandb td:nth-child(1) { padding: 0 10px; text-align: left ; width: auto;} td:nth-child(2) {text-align: left ; width: 100%}\n",
       "    .wandb-row { display: flex; flex-direction: row; flex-wrap: wrap; justify-content: flex-start; width: 100% }\n",
       "    .wandb-col { display: flex; flex-direction: column; flex-basis: 100%; flex: 1; padding: 10px; }\n",
       "    </style>\n",
       "<div class=\"wandb-row\"><div class=\"wandb-col\"><h3>Run history:</h3><br/><table class=\"wandb\"><tr><td>F1-Score</td><td>▁█▅</td></tr><tr><td>Precision</td><td>▁██</td></tr><tr><td>Recall</td><td>█▆▁</td></tr></table><br/></div><div class=\"wandb-col\"><h3>Run summary:</h3><br/><table class=\"wandb\"><tr><td>F1-Score</td><td>0.97092</td></tr><tr><td>Precision</td><td>0.96958</td></tr><tr><td>Recall</td><td>0.97286</td></tr></table><br/></div></div>"
      ],
      "text/plain": [
       "<IPython.core.display.HTML object>"
      ]
     },
     "metadata": {},
     "output_type": "display_data"
    },
    {
     "data": {
      "text/html": [
       " View run <strong style=\"color:#cdcd00\">jumping-sweep-1</strong> at: <a href='https://wandb.ai/scott-clare/rf_hyperparam_tuning_tech_discussion_group_bayes_cross_val/runs/kf6cvaml' target=\"_blank\">https://wandb.ai/scott-clare/rf_hyperparam_tuning_tech_discussion_group_bayes_cross_val/runs/kf6cvaml</a><br/>Synced 5 W&B file(s), 0 media file(s), 0 artifact file(s) and 0 other file(s)"
      ],
      "text/plain": [
       "<IPython.core.display.HTML object>"
      ]
     },
     "metadata": {},
     "output_type": "display_data"
    },
    {
     "data": {
      "text/html": [
       "Find logs at: <code>./wandb/run-20230322_103155-kf6cvaml/logs</code>"
      ],
      "text/plain": [
       "<IPython.core.display.HTML object>"
      ]
     },
     "metadata": {},
     "output_type": "display_data"
    },
    {
     "name": "stderr",
     "output_type": "stream",
     "text": [
      "\u001b[34m\u001b[1mwandb\u001b[0m: Agent Starting Run: 82lm9udy with config:\n",
      "\u001b[34m\u001b[1mwandb\u001b[0m: \tcriterion: log_loss\n",
      "\u001b[34m\u001b[1mwandb\u001b[0m: \tmax_depth: 10\n",
      "\u001b[34m\u001b[1mwandb\u001b[0m: \tn_estimators: 363\n",
      "\u001b[34m\u001b[1mwandb\u001b[0m: \u001b[33mWARNING\u001b[0m Ignored wandb.init() arg project when running a sweep.\n"
     ]
    },
    {
     "data": {
      "text/html": [
       "Tracking run with wandb version 0.14.0"
      ],
      "text/plain": [
       "<IPython.core.display.HTML object>"
      ]
     },
     "metadata": {},
     "output_type": "display_data"
    },
    {
     "data": {
      "text/html": [
       "Run data is saved locally in <code>/Users/scottclare/repos/local/wandb_technical_discussion_group/wandb/run-20230322_103206-82lm9udy</code>"
      ],
      "text/plain": [
       "<IPython.core.display.HTML object>"
      ]
     },
     "metadata": {},
     "output_type": "display_data"
    },
    {
     "data": {
      "text/html": [
       "Syncing run <strong><a href='https://wandb.ai/scott-clare/rf_hyperparam_tuning_tech_discussion_group_bayes_cross_val/runs/82lm9udy' target=\"_blank\">spring-sweep-2</a></strong> to <a href='https://wandb.ai/scott-clare/rf_hyperparam_tuning_tech_discussion_group_bayes_cross_val' target=\"_blank\">Weights & Biases</a> (<a href='https://wandb.me/run' target=\"_blank\">docs</a>)<br/>Sweep page: <a href='https://wandb.ai/scott-clare/rf_hyperparam_tuning_tech_discussion_group_bayes_cross_val/sweeps/g04t3vhm' target=\"_blank\">https://wandb.ai/scott-clare/rf_hyperparam_tuning_tech_discussion_group_bayes_cross_val/sweeps/g04t3vhm</a>"
      ],
      "text/plain": [
       "<IPython.core.display.HTML object>"
      ]
     },
     "metadata": {},
     "output_type": "display_data"
    },
    {
     "data": {
      "text/html": [
       " View project at <a href='https://wandb.ai/scott-clare/rf_hyperparam_tuning_tech_discussion_group_bayes_cross_val' target=\"_blank\">https://wandb.ai/scott-clare/rf_hyperparam_tuning_tech_discussion_group_bayes_cross_val</a>"
      ],
      "text/plain": [
       "<IPython.core.display.HTML object>"
      ]
     },
     "metadata": {},
     "output_type": "display_data"
    },
    {
     "data": {
      "text/html": [
       " View sweep at <a href='https://wandb.ai/scott-clare/rf_hyperparam_tuning_tech_discussion_group_bayes_cross_val/sweeps/g04t3vhm' target=\"_blank\">https://wandb.ai/scott-clare/rf_hyperparam_tuning_tech_discussion_group_bayes_cross_val/sweeps/g04t3vhm</a>"
      ],
      "text/plain": [
       "<IPython.core.display.HTML object>"
      ]
     },
     "metadata": {},
     "output_type": "display_data"
    },
    {
     "data": {
      "text/html": [
       " View run at <a href='https://wandb.ai/scott-clare/rf_hyperparam_tuning_tech_discussion_group_bayes_cross_val/runs/82lm9udy' target=\"_blank\">https://wandb.ai/scott-clare/rf_hyperparam_tuning_tech_discussion_group_bayes_cross_val/runs/82lm9udy</a>"
      ],
      "text/plain": [
       "<IPython.core.display.HTML object>"
      ]
     },
     "metadata": {},
     "output_type": "display_data"
    },
    {
     "data": {
      "text/html": [
       "Waiting for W&B process to finish... <strong style=\"color:green\">(success).</strong>"
      ],
      "text/plain": [
       "<IPython.core.display.HTML object>"
      ]
     },
     "metadata": {},
     "output_type": "display_data"
    },
    {
     "data": {
      "text/html": [
       "<style>\n",
       "    table.wandb td:nth-child(1) { padding: 0 10px; text-align: left ; width: auto;} td:nth-child(2) {text-align: left ; width: 100%}\n",
       "    .wandb-row { display: flex; flex-direction: row; flex-wrap: wrap; justify-content: flex-start; width: 100% }\n",
       "    .wandb-col { display: flex; flex-direction: column; flex-basis: 100%; flex: 1; padding: 10px; }\n",
       "    </style>\n",
       "<div class=\"wandb-row\"><div class=\"wandb-col\"><h3>Run history:</h3><br/><table class=\"wandb\"><tr><td>F1-Score</td><td>▁█▅</td></tr><tr><td>Precision</td><td>▁▇█</td></tr><tr><td>Recall</td><td>█▄▁</td></tr></table><br/></div><div class=\"wandb-col\"><h3>Run summary:</h3><br/><table class=\"wandb\"><tr><td>F1-Score</td><td>0.96713</td></tr><tr><td>Precision</td><td>0.96575</td></tr><tr><td>Recall</td><td>0.96912</td></tr></table><br/></div></div>"
      ],
      "text/plain": [
       "<IPython.core.display.HTML object>"
      ]
     },
     "metadata": {},
     "output_type": "display_data"
    },
    {
     "data": {
      "text/html": [
       " View run <strong style=\"color:#cdcd00\">spring-sweep-2</strong> at: <a href='https://wandb.ai/scott-clare/rf_hyperparam_tuning_tech_discussion_group_bayes_cross_val/runs/82lm9udy' target=\"_blank\">https://wandb.ai/scott-clare/rf_hyperparam_tuning_tech_discussion_group_bayes_cross_val/runs/82lm9udy</a><br/>Synced 5 W&B file(s), 0 media file(s), 0 artifact file(s) and 0 other file(s)"
      ],
      "text/plain": [
       "<IPython.core.display.HTML object>"
      ]
     },
     "metadata": {},
     "output_type": "display_data"
    },
    {
     "data": {
      "text/html": [
       "Find logs at: <code>./wandb/run-20230322_103206-82lm9udy/logs</code>"
      ],
      "text/plain": [
       "<IPython.core.display.HTML object>"
      ]
     },
     "metadata": {},
     "output_type": "display_data"
    },
    {
     "name": "stderr",
     "output_type": "stream",
     "text": [
      "\u001b[34m\u001b[1mwandb\u001b[0m: Agent Starting Run: gyf5m6a7 with config:\n",
      "\u001b[34m\u001b[1mwandb\u001b[0m: \tcriterion: log_loss\n",
      "\u001b[34m\u001b[1mwandb\u001b[0m: \tmax_depth: 10\n",
      "\u001b[34m\u001b[1mwandb\u001b[0m: \tn_estimators: 273\n",
      "\u001b[34m\u001b[1mwandb\u001b[0m: \u001b[33mWARNING\u001b[0m Ignored wandb.init() arg project when running a sweep.\n"
     ]
    },
    {
     "data": {
      "text/html": [
       "Tracking run with wandb version 0.14.0"
      ],
      "text/plain": [
       "<IPython.core.display.HTML object>"
      ]
     },
     "metadata": {},
     "output_type": "display_data"
    },
    {
     "data": {
      "text/html": [
       "Run data is saved locally in <code>/Users/scottclare/repos/local/wandb_technical_discussion_group/wandb/run-20230322_103217-gyf5m6a7</code>"
      ],
      "text/plain": [
       "<IPython.core.display.HTML object>"
      ]
     },
     "metadata": {},
     "output_type": "display_data"
    },
    {
     "data": {
      "text/html": [
       "Syncing run <strong><a href='https://wandb.ai/scott-clare/rf_hyperparam_tuning_tech_discussion_group_bayes_cross_val/runs/gyf5m6a7' target=\"_blank\">dark-sweep-3</a></strong> to <a href='https://wandb.ai/scott-clare/rf_hyperparam_tuning_tech_discussion_group_bayes_cross_val' target=\"_blank\">Weights & Biases</a> (<a href='https://wandb.me/run' target=\"_blank\">docs</a>)<br/>Sweep page: <a href='https://wandb.ai/scott-clare/rf_hyperparam_tuning_tech_discussion_group_bayes_cross_val/sweeps/g04t3vhm' target=\"_blank\">https://wandb.ai/scott-clare/rf_hyperparam_tuning_tech_discussion_group_bayes_cross_val/sweeps/g04t3vhm</a>"
      ],
      "text/plain": [
       "<IPython.core.display.HTML object>"
      ]
     },
     "metadata": {},
     "output_type": "display_data"
    },
    {
     "data": {
      "text/html": [
       " View project at <a href='https://wandb.ai/scott-clare/rf_hyperparam_tuning_tech_discussion_group_bayes_cross_val' target=\"_blank\">https://wandb.ai/scott-clare/rf_hyperparam_tuning_tech_discussion_group_bayes_cross_val</a>"
      ],
      "text/plain": [
       "<IPython.core.display.HTML object>"
      ]
     },
     "metadata": {},
     "output_type": "display_data"
    },
    {
     "data": {
      "text/html": [
       " View sweep at <a href='https://wandb.ai/scott-clare/rf_hyperparam_tuning_tech_discussion_group_bayes_cross_val/sweeps/g04t3vhm' target=\"_blank\">https://wandb.ai/scott-clare/rf_hyperparam_tuning_tech_discussion_group_bayes_cross_val/sweeps/g04t3vhm</a>"
      ],
      "text/plain": [
       "<IPython.core.display.HTML object>"
      ]
     },
     "metadata": {},
     "output_type": "display_data"
    },
    {
     "data": {
      "text/html": [
       " View run at <a href='https://wandb.ai/scott-clare/rf_hyperparam_tuning_tech_discussion_group_bayes_cross_val/runs/gyf5m6a7' target=\"_blank\">https://wandb.ai/scott-clare/rf_hyperparam_tuning_tech_discussion_group_bayes_cross_val/runs/gyf5m6a7</a>"
      ],
      "text/plain": [
       "<IPython.core.display.HTML object>"
      ]
     },
     "metadata": {},
     "output_type": "display_data"
    },
    {
     "data": {
      "text/html": [
       "Waiting for W&B process to finish... <strong style=\"color:green\">(success).</strong>"
      ],
      "text/plain": [
       "<IPython.core.display.HTML object>"
      ]
     },
     "metadata": {},
     "output_type": "display_data"
    },
    {
     "data": {
      "application/vnd.jupyter.widget-view+json": {
       "model_id": "e16d66a8ba2644028eb9a759ab06d66e",
       "version_major": 2,
       "version_minor": 0
      },
      "text/plain": [
       "VBox(children=(Label(value='0.001 MB of 0.009 MB uploaded (0.000 MB deduped)\\r'), FloatProgress(value=0.103336…"
      ]
     },
     "metadata": {},
     "output_type": "display_data"
    },
    {
     "data": {
      "text/html": [
       "<style>\n",
       "    table.wandb td:nth-child(1) { padding: 0 10px; text-align: left ; width: auto;} td:nth-child(2) {text-align: left ; width: 100%}\n",
       "    .wandb-row { display: flex; flex-direction: row; flex-wrap: wrap; justify-content: flex-start; width: 100% }\n",
       "    .wandb-col { display: flex; flex-direction: column; flex-basis: 100%; flex: 1; padding: 10px; }\n",
       "    </style>\n",
       "<div class=\"wandb-row\"><div class=\"wandb-col\"><h3>Run history:</h3><br/><table class=\"wandb\"><tr><td>F1-Score</td><td>▁█▅</td></tr><tr><td>Precision</td><td>▁▇█</td></tr><tr><td>Recall</td><td>█▆▁</td></tr></table><br/></div><div class=\"wandb-col\"><h3>Run summary:</h3><br/><table class=\"wandb\"><tr><td>F1-Score</td><td>0.96906</td></tr><tr><td>Precision</td><td>0.96579</td></tr><tr><td>Recall</td><td>0.97286</td></tr></table><br/></div></div>"
      ],
      "text/plain": [
       "<IPython.core.display.HTML object>"
      ]
     },
     "metadata": {},
     "output_type": "display_data"
    },
    {
     "data": {
      "text/html": [
       " View run <strong style=\"color:#cdcd00\">dark-sweep-3</strong> at: <a href='https://wandb.ai/scott-clare/rf_hyperparam_tuning_tech_discussion_group_bayes_cross_val/runs/gyf5m6a7' target=\"_blank\">https://wandb.ai/scott-clare/rf_hyperparam_tuning_tech_discussion_group_bayes_cross_val/runs/gyf5m6a7</a><br/>Synced 5 W&B file(s), 0 media file(s), 0 artifact file(s) and 0 other file(s)"
      ],
      "text/plain": [
       "<IPython.core.display.HTML object>"
      ]
     },
     "metadata": {},
     "output_type": "display_data"
    },
    {
     "data": {
      "text/html": [
       "Find logs at: <code>./wandb/run-20230322_103217-gyf5m6a7/logs</code>"
      ],
      "text/plain": [
       "<IPython.core.display.HTML object>"
      ]
     },
     "metadata": {},
     "output_type": "display_data"
    },
    {
     "name": "stderr",
     "output_type": "stream",
     "text": [
      "\u001b[34m\u001b[1mwandb\u001b[0m: Agent Starting Run: hfqq4qs4 with config:\n",
      "\u001b[34m\u001b[1mwandb\u001b[0m: \tcriterion: gini\n",
      "\u001b[34m\u001b[1mwandb\u001b[0m: \tmax_depth: 7\n",
      "\u001b[34m\u001b[1mwandb\u001b[0m: \tn_estimators: 277\n",
      "\u001b[34m\u001b[1mwandb\u001b[0m: \u001b[33mWARNING\u001b[0m Ignored wandb.init() arg project when running a sweep.\n"
     ]
    },
    {
     "data": {
      "text/html": [
       "Tracking run with wandb version 0.14.0"
      ],
      "text/plain": [
       "<IPython.core.display.HTML object>"
      ]
     },
     "metadata": {},
     "output_type": "display_data"
    },
    {
     "data": {
      "text/html": [
       "Run data is saved locally in <code>/Users/scottclare/repos/local/wandb_technical_discussion_group/wandb/run-20230322_103228-hfqq4qs4</code>"
      ],
      "text/plain": [
       "<IPython.core.display.HTML object>"
      ]
     },
     "metadata": {},
     "output_type": "display_data"
    },
    {
     "data": {
      "text/html": [
       "Syncing run <strong><a href='https://wandb.ai/scott-clare/rf_hyperparam_tuning_tech_discussion_group_bayes_cross_val/runs/hfqq4qs4' target=\"_blank\">frosty-sweep-4</a></strong> to <a href='https://wandb.ai/scott-clare/rf_hyperparam_tuning_tech_discussion_group_bayes_cross_val' target=\"_blank\">Weights & Biases</a> (<a href='https://wandb.me/run' target=\"_blank\">docs</a>)<br/>Sweep page: <a href='https://wandb.ai/scott-clare/rf_hyperparam_tuning_tech_discussion_group_bayes_cross_val/sweeps/g04t3vhm' target=\"_blank\">https://wandb.ai/scott-clare/rf_hyperparam_tuning_tech_discussion_group_bayes_cross_val/sweeps/g04t3vhm</a>"
      ],
      "text/plain": [
       "<IPython.core.display.HTML object>"
      ]
     },
     "metadata": {},
     "output_type": "display_data"
    },
    {
     "data": {
      "text/html": [
       " View project at <a href='https://wandb.ai/scott-clare/rf_hyperparam_tuning_tech_discussion_group_bayes_cross_val' target=\"_blank\">https://wandb.ai/scott-clare/rf_hyperparam_tuning_tech_discussion_group_bayes_cross_val</a>"
      ],
      "text/plain": [
       "<IPython.core.display.HTML object>"
      ]
     },
     "metadata": {},
     "output_type": "display_data"
    },
    {
     "data": {
      "text/html": [
       " View sweep at <a href='https://wandb.ai/scott-clare/rf_hyperparam_tuning_tech_discussion_group_bayes_cross_val/sweeps/g04t3vhm' target=\"_blank\">https://wandb.ai/scott-clare/rf_hyperparam_tuning_tech_discussion_group_bayes_cross_val/sweeps/g04t3vhm</a>"
      ],
      "text/plain": [
       "<IPython.core.display.HTML object>"
      ]
     },
     "metadata": {},
     "output_type": "display_data"
    },
    {
     "data": {
      "text/html": [
       " View run at <a href='https://wandb.ai/scott-clare/rf_hyperparam_tuning_tech_discussion_group_bayes_cross_val/runs/hfqq4qs4' target=\"_blank\">https://wandb.ai/scott-clare/rf_hyperparam_tuning_tech_discussion_group_bayes_cross_val/runs/hfqq4qs4</a>"
      ],
      "text/plain": [
       "<IPython.core.display.HTML object>"
      ]
     },
     "metadata": {},
     "output_type": "display_data"
    },
    {
     "data": {
      "text/html": [
       "Waiting for W&B process to finish... <strong style=\"color:green\">(success).</strong>"
      ],
      "text/plain": [
       "<IPython.core.display.HTML object>"
      ]
     },
     "metadata": {},
     "output_type": "display_data"
    },
    {
     "data": {
      "application/vnd.jupyter.widget-view+json": {
       "model_id": "4c00f9c8d9d448dab0c7f8c93846e314",
       "version_major": 2,
       "version_minor": 0
      },
      "text/plain": [
       "VBox(children=(Label(value='0.001 MB of 0.009 MB uploaded (0.000 MB deduped)\\r'), FloatProgress(value=0.103420…"
      ]
     },
     "metadata": {},
     "output_type": "display_data"
    },
    {
     "data": {
      "text/html": [
       "<style>\n",
       "    table.wandb td:nth-child(1) { padding: 0 10px; text-align: left ; width: auto;} td:nth-child(2) {text-align: left ; width: 100%}\n",
       "    .wandb-row { display: flex; flex-direction: row; flex-wrap: wrap; justify-content: flex-start; width: 100% }\n",
       "    .wandb-col { display: flex; flex-direction: column; flex-basis: 100%; flex: 1; padding: 10px; }\n",
       "    </style>\n",
       "<div class=\"wandb-row\"><div class=\"wandb-col\"><h3>Run history:</h3><br/><table class=\"wandb\"><tr><td>F1-Score</td><td>▁█▅</td></tr><tr><td>Precision</td><td>▁▇█</td></tr><tr><td>Recall</td><td>█▄▁</td></tr></table><br/></div><div class=\"wandb-col\"><h3>Run summary:</h3><br/><table class=\"wandb\"><tr><td>F1-Score</td><td>0.96529</td></tr><tr><td>Precision</td><td>0.962</td></tr><tr><td>Recall</td><td>0.96912</td></tr></table><br/></div></div>"
      ],
      "text/plain": [
       "<IPython.core.display.HTML object>"
      ]
     },
     "metadata": {},
     "output_type": "display_data"
    },
    {
     "data": {
      "text/html": [
       " View run <strong style=\"color:#cdcd00\">frosty-sweep-4</strong> at: <a href='https://wandb.ai/scott-clare/rf_hyperparam_tuning_tech_discussion_group_bayes_cross_val/runs/hfqq4qs4' target=\"_blank\">https://wandb.ai/scott-clare/rf_hyperparam_tuning_tech_discussion_group_bayes_cross_val/runs/hfqq4qs4</a><br/>Synced 5 W&B file(s), 0 media file(s), 0 artifact file(s) and 0 other file(s)"
      ],
      "text/plain": [
       "<IPython.core.display.HTML object>"
      ]
     },
     "metadata": {},
     "output_type": "display_data"
    },
    {
     "data": {
      "text/html": [
       "Find logs at: <code>./wandb/run-20230322_103228-hfqq4qs4/logs</code>"
      ],
      "text/plain": [
       "<IPython.core.display.HTML object>"
      ]
     },
     "metadata": {},
     "output_type": "display_data"
    },
    {
     "name": "stderr",
     "output_type": "stream",
     "text": [
      "\u001b[34m\u001b[1mwandb\u001b[0m: Agent Starting Run: w4hyu39s with config:\n",
      "\u001b[34m\u001b[1mwandb\u001b[0m: \tcriterion: entropy\n",
      "\u001b[34m\u001b[1mwandb\u001b[0m: \tmax_depth: 6\n",
      "\u001b[34m\u001b[1mwandb\u001b[0m: \tn_estimators: 214\n",
      "\u001b[34m\u001b[1mwandb\u001b[0m: \u001b[33mWARNING\u001b[0m Ignored wandb.init() arg project when running a sweep.\n"
     ]
    },
    {
     "data": {
      "text/html": [
       "Tracking run with wandb version 0.14.0"
      ],
      "text/plain": [
       "<IPython.core.display.HTML object>"
      ]
     },
     "metadata": {},
     "output_type": "display_data"
    },
    {
     "data": {
      "text/html": [
       "Run data is saved locally in <code>/Users/scottclare/repos/local/wandb_technical_discussion_group/wandb/run-20230322_103239-w4hyu39s</code>"
      ],
      "text/plain": [
       "<IPython.core.display.HTML object>"
      ]
     },
     "metadata": {},
     "output_type": "display_data"
    },
    {
     "data": {
      "text/html": [
       "Syncing run <strong><a href='https://wandb.ai/scott-clare/rf_hyperparam_tuning_tech_discussion_group_bayes_cross_val/runs/w4hyu39s' target=\"_blank\">proud-sweep-5</a></strong> to <a href='https://wandb.ai/scott-clare/rf_hyperparam_tuning_tech_discussion_group_bayes_cross_val' target=\"_blank\">Weights & Biases</a> (<a href='https://wandb.me/run' target=\"_blank\">docs</a>)<br/>Sweep page: <a href='https://wandb.ai/scott-clare/rf_hyperparam_tuning_tech_discussion_group_bayes_cross_val/sweeps/g04t3vhm' target=\"_blank\">https://wandb.ai/scott-clare/rf_hyperparam_tuning_tech_discussion_group_bayes_cross_val/sweeps/g04t3vhm</a>"
      ],
      "text/plain": [
       "<IPython.core.display.HTML object>"
      ]
     },
     "metadata": {},
     "output_type": "display_data"
    },
    {
     "data": {
      "text/html": [
       " View project at <a href='https://wandb.ai/scott-clare/rf_hyperparam_tuning_tech_discussion_group_bayes_cross_val' target=\"_blank\">https://wandb.ai/scott-clare/rf_hyperparam_tuning_tech_discussion_group_bayes_cross_val</a>"
      ],
      "text/plain": [
       "<IPython.core.display.HTML object>"
      ]
     },
     "metadata": {},
     "output_type": "display_data"
    },
    {
     "data": {
      "text/html": [
       " View sweep at <a href='https://wandb.ai/scott-clare/rf_hyperparam_tuning_tech_discussion_group_bayes_cross_val/sweeps/g04t3vhm' target=\"_blank\">https://wandb.ai/scott-clare/rf_hyperparam_tuning_tech_discussion_group_bayes_cross_val/sweeps/g04t3vhm</a>"
      ],
      "text/plain": [
       "<IPython.core.display.HTML object>"
      ]
     },
     "metadata": {},
     "output_type": "display_data"
    },
    {
     "data": {
      "text/html": [
       " View run at <a href='https://wandb.ai/scott-clare/rf_hyperparam_tuning_tech_discussion_group_bayes_cross_val/runs/w4hyu39s' target=\"_blank\">https://wandb.ai/scott-clare/rf_hyperparam_tuning_tech_discussion_group_bayes_cross_val/runs/w4hyu39s</a>"
      ],
      "text/plain": [
       "<IPython.core.display.HTML object>"
      ]
     },
     "metadata": {},
     "output_type": "display_data"
    },
    {
     "data": {
      "text/html": [
       "Waiting for W&B process to finish... <strong style=\"color:green\">(success).</strong>"
      ],
      "text/plain": [
       "<IPython.core.display.HTML object>"
      ]
     },
     "metadata": {},
     "output_type": "display_data"
    },
    {
     "data": {
      "application/vnd.jupyter.widget-view+json": {
       "model_id": "7fa367c2862a4f7582f583ca0d42ad22",
       "version_major": 2,
       "version_minor": 0
      },
      "text/plain": [
       "VBox(children=(Label(value='0.001 MB of 0.009 MB uploaded (0.000 MB deduped)\\r'), FloatProgress(value=0.103357…"
      ]
     },
     "metadata": {},
     "output_type": "display_data"
    },
    {
     "data": {
      "text/html": [
       "<style>\n",
       "    table.wandb td:nth-child(1) { padding: 0 10px; text-align: left ; width: auto;} td:nth-child(2) {text-align: left ; width: 100%}\n",
       "    .wandb-row { display: flex; flex-direction: row; flex-wrap: wrap; justify-content: flex-start; width: 100% }\n",
       "    .wandb-col { display: flex; flex-direction: column; flex-basis: 100%; flex: 1; padding: 10px; }\n",
       "    </style>\n",
       "<div class=\"wandb-row\"><div class=\"wandb-col\"><h3>Run history:</h3><br/><table class=\"wandb\"><tr><td>F1-Score</td><td>▁█▇</td></tr><tr><td>Precision</td><td>▁▇█</td></tr><tr><td>Recall</td><td>█▃▁</td></tr></table><br/></div><div class=\"wandb-col\"><h3>Run summary:</h3><br/><table class=\"wandb\"><tr><td>F1-Score</td><td>0.96881</td></tr><tr><td>Precision</td><td>0.96584</td></tr><tr><td>Recall</td><td>0.97232</td></tr></table><br/></div></div>"
      ],
      "text/plain": [
       "<IPython.core.display.HTML object>"
      ]
     },
     "metadata": {},
     "output_type": "display_data"
    },
    {
     "data": {
      "text/html": [
       " View run <strong style=\"color:#cdcd00\">proud-sweep-5</strong> at: <a href='https://wandb.ai/scott-clare/rf_hyperparam_tuning_tech_discussion_group_bayes_cross_val/runs/w4hyu39s' target=\"_blank\">https://wandb.ai/scott-clare/rf_hyperparam_tuning_tech_discussion_group_bayes_cross_val/runs/w4hyu39s</a><br/>Synced 5 W&B file(s), 0 media file(s), 0 artifact file(s) and 0 other file(s)"
      ],
      "text/plain": [
       "<IPython.core.display.HTML object>"
      ]
     },
     "metadata": {},
     "output_type": "display_data"
    },
    {
     "data": {
      "text/html": [
       "Find logs at: <code>./wandb/run-20230322_103239-w4hyu39s/logs</code>"
      ],
      "text/plain": [
       "<IPython.core.display.HTML object>"
      ]
     },
     "metadata": {},
     "output_type": "display_data"
    }
   ],
   "source": [
    "sweep_id = wandb.sweep(sweep_config, project=\"rf_hyperparam_tuning_tech_discussion_group_bayes_cross_val\")\n",
    "wandb.agent(sweep_id, function=objective, count=5)"
   ]
  }
 ],
 "metadata": {
  "kernelspec": {
   "display_name": "Python 3 (ipykernel)",
   "language": "python",
   "name": "python3"
  },
  "language_info": {
   "codemirror_mode": {
    "name": "ipython",
    "version": 3
   },
   "file_extension": ".py",
   "mimetype": "text/x-python",
   "name": "python",
   "nbconvert_exporter": "python",
   "pygments_lexer": "ipython3",
   "version": "3.8.16"
  }
 },
 "nbformat": 4,
 "nbformat_minor": 5
}
